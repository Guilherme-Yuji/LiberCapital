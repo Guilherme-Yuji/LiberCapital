{
 "cells": [
  {
   "cell_type": "markdown",
   "metadata": {},
   "source": [
    "# Processo Seletivo - Liber Capital"
   ]
  },
  {
   "cell_type": "markdown",
   "metadata": {},
   "source": [
    "## 1. Introdução"
   ]
  },
  {
   "cell_type": "markdown",
   "metadata": {},
   "source": [
    "Uma das etapas do processo seletivo para o cargo de cientista de dados da empresa Liber Capital consiste um solucionar um problema de négocio a partir da análise de dados e técnicas de predição. Portanto este notebook conterá a resolução do problema que será descrito a seguir. Como ferramenta de análise, será utilizado a linguagem de programação Python e também algumas bibliotecas específicas para alçancar os objetivos esperados.\n",
    "\n",
    "Segundo alguns dados fornecidos, A Lumia quer expandir seus negócios e para isso precisa automatizar o processo decisório\n",
    "de crédito, que até então vinha sendo feito de forma manual pelo seu time de analistas de crédito. Para isso, solicitou a você, cientista de dados, a análise da base dos créditos concedidos aos seus clientes no ano de 2020. O objetivo é, que a cada nova proposta de crédito, na sua plataforma digital, a aprovação (para bons clientes) ou recusa (para os maus\n",
    "clientes) seja decidida em poucos segundos.\n",
    "\n",
    "Os dados que foram utilizados para a resolução deste problema esta disponível no seguinte link: https://archive.ics.uci.edu/ml/datasets/Statlog+%28German+Credit+Data%29\n",
    "\n",
    "\n",
    "# Entendendo o dataset:\n",
    "\n",
    "Segundo as informações mostrados no site do onde está contido os dados, há um total de 20 variáveis sendo 7 delas numéricas e 13 delas categóricas.\n",
    "\n",
    "A variável alvo é a classificação do cliente, que é representada pelos seguintes valores:\n",
    "- 1 = cliete bom\n",
    "- 2 = cliente ruim\n",
    "\n",
    "Abaixo será mostrado as informações contidas no site das demais variaveis presentes nos dados:\n",
    "\n",
    "Attribute 1: (qualitative)\n",
    "Status of existing checking account\n",
    "A11 : ... < 0 DM\n",
    "A12 : 0 <= ... < 200 DM\n",
    "A13 : ... >= 200 DM / salary assignments for at least 1 year\n",
    "A14 : no checking account\n",
    "\n",
    "Attribute 2: (numerical)\n",
    "Duration in month\n",
    "\n",
    "Attribute 3: (qualitative)\n",
    "Credit history\n",
    "A30 : no credits taken/ all credits paid back duly\n",
    "A31 : all credits at this bank paid back duly\n",
    "A32 : existing credits paid back duly till now\n",
    "A33 : delay in paying off in the past\n",
    "A34 : critical account/ other credits existing (not at this bank)\n",
    "\n",
    "Attribute 4: (qualitative)\n",
    "Purpose\n",
    "A40 : car (new)\n",
    "A41 : car (used)\n",
    "A42 : furniture/equipment\n",
    "A43 : radio/television\n",
    "A44 : domestic appliances\n",
    "A45 : repairs\n",
    "A46 : education\n",
    "A47 : (vacation - does not exist?)\n",
    "A48 : retraining\n",
    "A49 : business\n",
    "A410 : others\n",
    "\n",
    "Attribute 5: (numerical)\n",
    "Credit amount\n",
    "\n",
    "Attibute 6: (qualitative)\n",
    "Savings account/bonds\n",
    "A61 : ... < 100 DM\n",
    "A62 : 100 <= ... < 500 DM\n",
    "A63 : 500 <= ... < 1000 DM\n",
    "A64 : .. >= 1000 DM\n",
    "A65 : unknown/ no savings account\n",
    "\n",
    "Attribute 7: (qualitative)\n",
    "Present employment since\n",
    "A71 : unemployed\n",
    "A72 : ... < 1 year\n",
    "A73 : 1 <= ... < 4 years\n",
    "A74 : 4 <= ... < 7 years\n",
    "A75 : .. >= 7 years\n",
    "\n",
    "Attribute 8: (numerical)\n",
    "Installment rate in percentage of disposable income\n",
    "\n",
    "Attribute 9: (qualitative)\n",
    "Personal status and sex\n",
    "A91 : male : divorced/separated\n",
    "A92 : female : divorced/separated/married\n",
    "A93 : male : single\n",
    "A94 : male : married/widowed\n",
    "A95 : female : single\n",
    "\n",
    "Attribute 10: (qualitative)\n",
    "Other debtors / guarantors\n",
    "A101 : none\n",
    "A102 : co-applicant\n",
    "A103 : guarantor\n",
    "\n",
    "Attribute 11: (numerical)\n",
    "Present residence since\n",
    "\n",
    "Attribute 12: (qualitative)\n",
    "Property\n",
    "A121 : real estate\n",
    "A122 : if not A121 : building society savings agreement/ life insurance\n",
    "A123 : if not A121/A122 : car or other, not in attribute 6\n",
    "A124 : unknown / no property\n",
    "\n",
    "Attribute 13: (numerical)\n",
    "Age in years\n",
    "\n",
    "Attribute 14: (qualitative)\n",
    "Other installment plans\n",
    "A141 : bank\n",
    "A142 : stores\n",
    "A143 : none\n",
    "\n",
    "Attribute 15: (qualitative)\n",
    "Housing\n",
    "A151 : rent\n",
    "A152 : own\n",
    "A153 : for free\n",
    "\n",
    "Attribute 16: (numerical)\n",
    "Number of existing credits at this bank\n",
    "\n",
    "Attribute 17: (qualitative)\n",
    "Job\n",
    "A171 : unemployed/ unskilled - non-resident\n",
    "A172 : unskilled - resident\n",
    "A173 : skilled employee / official\n",
    "A174 : management/ self-employed/\n",
    "highly qualified employee/ officer\n",
    "\n",
    "Attribute 18: (numerical)\n",
    "Number of people being liable to provide maintenance for\n",
    "\n",
    "Attribute 19: (qualitative)\n",
    "Telephone\n",
    "A191 : none\n",
    "A192 : yes, registered under the customers name\n",
    "\n",
    "Attribute 20: (qualitative)\n",
    "foreign worker\n",
    "A201 : yes\n",
    "A202 : no"
   ]
  },
  {
   "cell_type": "markdown",
   "metadata": {},
   "source": [
    "Link guia: https://ensinandomaquinasblog.wordpress.com/2018/07/10/identificacao-de-risco-de-credito-statlog-german-credit-data/"
   ]
  },
  {
   "cell_type": "markdown",
   "metadata": {},
   "source": [
    "## 2. Importando as bibliotecas"
   ]
  },
  {
   "cell_type": "markdown",
   "metadata": {},
   "source": [
    "Neste tópico será importado as bibliotecas necessárias para a resolução do problema apresentado pela empresa."
   ]
  },
  {
   "cell_type": "code",
   "execution_count": 1,
   "metadata": {},
   "outputs": [],
   "source": [
    "#Bibliotecas para visualização e leitura dos dados\n",
    "import pandas as pd\n",
    "import seaborn as sns\n",
    "import matplotlib.pyplot as plt\n",
    "\n",
    "#Biblioteca Estatística\n",
    "import scipy.stats as ss\n",
    "\n",
    "#Bibliotecas auxiliares\n",
    "import itertools\n",
    "import numpy as np\n",
    "\n",
    "#Bibliotecas para validação dos modelos preditivos\n",
    "from sklearn.model_selection import train_test_split\n",
    "from sklearn.model_selection import cross_val_score\n",
    "from sklearn.model_selection import KFold\n",
    "\n",
    "# Bibliotecas com modelos de Machine Learning\n",
    "from sklearn.linear_model import LogisticRegression\n",
    "from sklearn.tree import DecisionTreeClassifier\n",
    "from sklearn.ensemble import RandomForestClassifier\n",
    "from sklearn.ensemble import GradientBoostingClassifier\n",
    "from sklearn.ensemble import AdaBoostClassifier\n",
    "from xgboost.sklearn import XGBClassifier\n",
    "from sklearn.svm import SVC\n",
    "from sklearn.neighbors import KNeighborsClassifier\n",
    "from sklearn.naive_bayes import GaussianNB\n",
    "\n",
    "# Seleção de Feature\n",
    "from sklearn.feature_selection import SelectKBest, f_classif\n",
    "from sklearn.feature_selection import RFE\n",
    "\n",
    "#Tunning\n",
    "from sklearn.model_selection import GridSearchCV\n",
    "\n",
    "#Biblioteca para tratar variaveis categóricas\n",
    "from category_encoders import TargetEncoder\n",
    "\n",
    "# Biblioteca para ocultar avisos\n",
    "import warnings\n",
    "warnings.filterwarnings('ignore')\n",
    "\n",
    "# Random seed\n",
    "np.random.seed(42)"
   ]
  },
  {
   "cell_type": "markdown",
   "metadata": {},
   "source": [
    "## 3. Leitura dos dados"
   ]
  },
  {
   "cell_type": "markdown",
   "metadata": {},
   "source": [
    "Nesta etapa será lido o arquivo de dados providenciado pela empresa para a resolução do problema descrito. Também será mostrado as informações contidas neste arquivo."
   ]
  },
  {
   "cell_type": "code",
   "execution_count": 2,
   "metadata": {},
   "outputs": [],
   "source": [
    "#Lendo o arquivo de dados fornecido\n",
    "df = pd.read_fwf(\"german.data\", header = None)"
   ]
  },
  {
   "cell_type": "code",
   "execution_count": 3,
   "metadata": {},
   "outputs": [
    {
     "data": {
      "text/html": [
       "<div>\n",
       "<style scoped>\n",
       "    .dataframe tbody tr th:only-of-type {\n",
       "        vertical-align: middle;\n",
       "    }\n",
       "\n",
       "    .dataframe tbody tr th {\n",
       "        vertical-align: top;\n",
       "    }\n",
       "\n",
       "    .dataframe thead th {\n",
       "        text-align: right;\n",
       "    }\n",
       "</style>\n",
       "<table border=\"1\" class=\"dataframe\">\n",
       "  <thead>\n",
       "    <tr style=\"text-align: right;\">\n",
       "      <th></th>\n",
       "      <th>0</th>\n",
       "      <th>1</th>\n",
       "    </tr>\n",
       "  </thead>\n",
       "  <tbody>\n",
       "    <tr>\n",
       "      <th>0</th>\n",
       "      <td>A11</td>\n",
       "      <td>6 A34 A43 1169 A65 A75 4 A93 A101 4 A121 67 A1...</td>\n",
       "    </tr>\n",
       "    <tr>\n",
       "      <th>1</th>\n",
       "      <td>A12</td>\n",
       "      <td>48 A32 A43 5951 A61 A73 2 A92 A101 2 A121 22 A...</td>\n",
       "    </tr>\n",
       "    <tr>\n",
       "      <th>2</th>\n",
       "      <td>A14</td>\n",
       "      <td>12 A34 A46 2096 A61 A74 2 A93 A101 3 A121 49 A...</td>\n",
       "    </tr>\n",
       "    <tr>\n",
       "      <th>3</th>\n",
       "      <td>A11</td>\n",
       "      <td>42 A32 A42 7882 A61 A74 2 A93 A103 4 A122 45 A...</td>\n",
       "    </tr>\n",
       "    <tr>\n",
       "      <th>4</th>\n",
       "      <td>A11</td>\n",
       "      <td>24 A33 A40 4870 A61 A73 3 A93 A101 4 A124 53 A...</td>\n",
       "    </tr>\n",
       "    <tr>\n",
       "      <th>...</th>\n",
       "      <td>...</td>\n",
       "      <td>...</td>\n",
       "    </tr>\n",
       "    <tr>\n",
       "      <th>995</th>\n",
       "      <td>A14</td>\n",
       "      <td>12 A32 A42 1736 A61 A74 3 A92 A101 4 A121 31 A...</td>\n",
       "    </tr>\n",
       "    <tr>\n",
       "      <th>996</th>\n",
       "      <td>A11</td>\n",
       "      <td>30 A32 A41 3857 A61 A73 4 A91 A101 4 A122 40 A...</td>\n",
       "    </tr>\n",
       "    <tr>\n",
       "      <th>997</th>\n",
       "      <td>A14</td>\n",
       "      <td>12 A32 A43 804 A61 A75 4 A93 A101 4 A123 38 A1...</td>\n",
       "    </tr>\n",
       "    <tr>\n",
       "      <th>998</th>\n",
       "      <td>A11</td>\n",
       "      <td>45 A32 A43 1845 A61 A73 4 A93 A101 4 A124 23 A...</td>\n",
       "    </tr>\n",
       "    <tr>\n",
       "      <th>999</th>\n",
       "      <td>A12</td>\n",
       "      <td>45 A34 A41 4576 A62 A71 3 A93 A101 4 A123 27 A...</td>\n",
       "    </tr>\n",
       "  </tbody>\n",
       "</table>\n",
       "<p>1000 rows × 2 columns</p>\n",
       "</div>"
      ],
      "text/plain": [
       "       0                                                  1\n",
       "0    A11  6 A34 A43 1169 A65 A75 4 A93 A101 4 A121 67 A1...\n",
       "1    A12  48 A32 A43 5951 A61 A73 2 A92 A101 2 A121 22 A...\n",
       "2    A14  12 A34 A46 2096 A61 A74 2 A93 A101 3 A121 49 A...\n",
       "3    A11  42 A32 A42 7882 A61 A74 2 A93 A103 4 A122 45 A...\n",
       "4    A11  24 A33 A40 4870 A61 A73 3 A93 A101 4 A124 53 A...\n",
       "..   ...                                                ...\n",
       "995  A14  12 A32 A42 1736 A61 A74 3 A92 A101 4 A121 31 A...\n",
       "996  A11  30 A32 A41 3857 A61 A73 4 A91 A101 4 A122 40 A...\n",
       "997  A14  12 A32 A43 804 A61 A75 4 A93 A101 4 A123 38 A1...\n",
       "998  A11  45 A32 A43 1845 A61 A73 4 A93 A101 4 A124 23 A...\n",
       "999  A12  45 A34 A41 4576 A62 A71 3 A93 A101 4 A123 27 A...\n",
       "\n",
       "[1000 rows x 2 columns]"
      ]
     },
     "execution_count": 3,
     "metadata": {},
     "output_type": "execute_result"
    }
   ],
   "source": [
    "df"
   ]
  },
  {
   "cell_type": "markdown",
   "metadata": {},
   "source": [
    "Como mostrado acima, a biblioteca pandas teve alguns problemas em separar as informações fornecidas em colunas específicas para o inicio da análise. Portanto será necessário a realização de um tratamento dos dados lidos para que tenhamos um dataframe mais proxíma da realidade. "
   ]
  },
  {
   "cell_type": "code",
   "execution_count": 4,
   "metadata": {},
   "outputs": [],
   "source": [
    "#Seperando os dados\n",
    "test = []\n",
    "for i in df[1]:\n",
    "    test.append(i.split())"
   ]
  },
  {
   "cell_type": "code",
   "execution_count": 5,
   "metadata": {},
   "outputs": [],
   "source": [
    "#Convertendo os dados separados em um dataframe\n",
    "data_2 = pd.DataFrame(test)"
   ]
  },
  {
   "cell_type": "code",
   "execution_count": 6,
   "metadata": {},
   "outputs": [],
   "source": [
    "#Juntando dos dois datasets\n",
    "data = pd.concat([df[0],data_2], axis = 1)"
   ]
  },
  {
   "cell_type": "code",
   "execution_count": 7,
   "metadata": {},
   "outputs": [],
   "source": [
    "#Como o dataset fornecido não apresenta o nome das colunas, a partir da informações descritas das colunas, será colocado\n",
    "# o nome em cada uma para uma melhor identificação.\n",
    "columns = [\n",
    "    'Status of existing account',\n",
    "    'Duration in month',\n",
    "    'Credit History',\n",
    "    'Purpose',\n",
    "    'Credit amount',\n",
    "    'Savings account/bonds',\n",
    "    'Present employment since',\n",
    "    'Installment rate in percentage of disposable income',\n",
    "    'Personal status and sex',\n",
    "    'Other debtors / guarantors',\n",
    "    'Present residence since',\n",
    "    'Property',\n",
    "    'Age',\n",
    "    'Other installment plans',\n",
    "    'Housing',\n",
    "    'Number of existing credits at this bank',\n",
    "    'Job',\n",
    "    'Number of people being liable to provide maintenance for',\n",
    "    'Telephone',\n",
    "    'foreign worker',\n",
    "    'Credit_Class'\n",
    "]"
   ]
  },
  {
   "cell_type": "code",
   "execution_count": 8,
   "metadata": {},
   "outputs": [],
   "source": [
    "#Atribuindo os nomes das colunas do dataframe\n",
    "data.columns = columns"
   ]
  },
  {
   "cell_type": "code",
   "execution_count": 9,
   "metadata": {},
   "outputs": [
    {
     "data": {
      "text/html": [
       "<div>\n",
       "<style scoped>\n",
       "    .dataframe tbody tr th:only-of-type {\n",
       "        vertical-align: middle;\n",
       "    }\n",
       "\n",
       "    .dataframe tbody tr th {\n",
       "        vertical-align: top;\n",
       "    }\n",
       "\n",
       "    .dataframe thead th {\n",
       "        text-align: right;\n",
       "    }\n",
       "</style>\n",
       "<table border=\"1\" class=\"dataframe\">\n",
       "  <thead>\n",
       "    <tr style=\"text-align: right;\">\n",
       "      <th></th>\n",
       "      <th>Status of existing account</th>\n",
       "      <th>Duration in month</th>\n",
       "      <th>Credit History</th>\n",
       "      <th>Purpose</th>\n",
       "      <th>Credit amount</th>\n",
       "      <th>Savings account/bonds</th>\n",
       "      <th>Present employment since</th>\n",
       "      <th>Installment rate in percentage of disposable income</th>\n",
       "      <th>Personal status and sex</th>\n",
       "      <th>Other debtors / guarantors</th>\n",
       "      <th>...</th>\n",
       "      <th>Property</th>\n",
       "      <th>Age</th>\n",
       "      <th>Other installment plans</th>\n",
       "      <th>Housing</th>\n",
       "      <th>Number of existing credits at this bank</th>\n",
       "      <th>Job</th>\n",
       "      <th>Number of people being liable to provide maintenance for</th>\n",
       "      <th>Telephone</th>\n",
       "      <th>foreign worker</th>\n",
       "      <th>Credit_Class</th>\n",
       "    </tr>\n",
       "  </thead>\n",
       "  <tbody>\n",
       "    <tr>\n",
       "      <th>0</th>\n",
       "      <td>A11</td>\n",
       "      <td>6</td>\n",
       "      <td>A34</td>\n",
       "      <td>A43</td>\n",
       "      <td>1169</td>\n",
       "      <td>A65</td>\n",
       "      <td>A75</td>\n",
       "      <td>4</td>\n",
       "      <td>A93</td>\n",
       "      <td>A101</td>\n",
       "      <td>...</td>\n",
       "      <td>A121</td>\n",
       "      <td>67</td>\n",
       "      <td>A143</td>\n",
       "      <td>A152</td>\n",
       "      <td>2</td>\n",
       "      <td>A173</td>\n",
       "      <td>1</td>\n",
       "      <td>A192</td>\n",
       "      <td>A201</td>\n",
       "      <td>1</td>\n",
       "    </tr>\n",
       "    <tr>\n",
       "      <th>1</th>\n",
       "      <td>A12</td>\n",
       "      <td>48</td>\n",
       "      <td>A32</td>\n",
       "      <td>A43</td>\n",
       "      <td>5951</td>\n",
       "      <td>A61</td>\n",
       "      <td>A73</td>\n",
       "      <td>2</td>\n",
       "      <td>A92</td>\n",
       "      <td>A101</td>\n",
       "      <td>...</td>\n",
       "      <td>A121</td>\n",
       "      <td>22</td>\n",
       "      <td>A143</td>\n",
       "      <td>A152</td>\n",
       "      <td>1</td>\n",
       "      <td>A173</td>\n",
       "      <td>1</td>\n",
       "      <td>A191</td>\n",
       "      <td>A201</td>\n",
       "      <td>2</td>\n",
       "    </tr>\n",
       "    <tr>\n",
       "      <th>2</th>\n",
       "      <td>A14</td>\n",
       "      <td>12</td>\n",
       "      <td>A34</td>\n",
       "      <td>A46</td>\n",
       "      <td>2096</td>\n",
       "      <td>A61</td>\n",
       "      <td>A74</td>\n",
       "      <td>2</td>\n",
       "      <td>A93</td>\n",
       "      <td>A101</td>\n",
       "      <td>...</td>\n",
       "      <td>A121</td>\n",
       "      <td>49</td>\n",
       "      <td>A143</td>\n",
       "      <td>A152</td>\n",
       "      <td>1</td>\n",
       "      <td>A172</td>\n",
       "      <td>2</td>\n",
       "      <td>A191</td>\n",
       "      <td>A201</td>\n",
       "      <td>1</td>\n",
       "    </tr>\n",
       "    <tr>\n",
       "      <th>3</th>\n",
       "      <td>A11</td>\n",
       "      <td>42</td>\n",
       "      <td>A32</td>\n",
       "      <td>A42</td>\n",
       "      <td>7882</td>\n",
       "      <td>A61</td>\n",
       "      <td>A74</td>\n",
       "      <td>2</td>\n",
       "      <td>A93</td>\n",
       "      <td>A103</td>\n",
       "      <td>...</td>\n",
       "      <td>A122</td>\n",
       "      <td>45</td>\n",
       "      <td>A143</td>\n",
       "      <td>A153</td>\n",
       "      <td>1</td>\n",
       "      <td>A173</td>\n",
       "      <td>2</td>\n",
       "      <td>A191</td>\n",
       "      <td>A201</td>\n",
       "      <td>1</td>\n",
       "    </tr>\n",
       "    <tr>\n",
       "      <th>4</th>\n",
       "      <td>A11</td>\n",
       "      <td>24</td>\n",
       "      <td>A33</td>\n",
       "      <td>A40</td>\n",
       "      <td>4870</td>\n",
       "      <td>A61</td>\n",
       "      <td>A73</td>\n",
       "      <td>3</td>\n",
       "      <td>A93</td>\n",
       "      <td>A101</td>\n",
       "      <td>...</td>\n",
       "      <td>A124</td>\n",
       "      <td>53</td>\n",
       "      <td>A143</td>\n",
       "      <td>A153</td>\n",
       "      <td>2</td>\n",
       "      <td>A173</td>\n",
       "      <td>2</td>\n",
       "      <td>A191</td>\n",
       "      <td>A201</td>\n",
       "      <td>2</td>\n",
       "    </tr>\n",
       "    <tr>\n",
       "      <th>...</th>\n",
       "      <td>...</td>\n",
       "      <td>...</td>\n",
       "      <td>...</td>\n",
       "      <td>...</td>\n",
       "      <td>...</td>\n",
       "      <td>...</td>\n",
       "      <td>...</td>\n",
       "      <td>...</td>\n",
       "      <td>...</td>\n",
       "      <td>...</td>\n",
       "      <td>...</td>\n",
       "      <td>...</td>\n",
       "      <td>...</td>\n",
       "      <td>...</td>\n",
       "      <td>...</td>\n",
       "      <td>...</td>\n",
       "      <td>...</td>\n",
       "      <td>...</td>\n",
       "      <td>...</td>\n",
       "      <td>...</td>\n",
       "      <td>...</td>\n",
       "    </tr>\n",
       "    <tr>\n",
       "      <th>995</th>\n",
       "      <td>A14</td>\n",
       "      <td>12</td>\n",
       "      <td>A32</td>\n",
       "      <td>A42</td>\n",
       "      <td>1736</td>\n",
       "      <td>A61</td>\n",
       "      <td>A74</td>\n",
       "      <td>3</td>\n",
       "      <td>A92</td>\n",
       "      <td>A101</td>\n",
       "      <td>...</td>\n",
       "      <td>A121</td>\n",
       "      <td>31</td>\n",
       "      <td>A143</td>\n",
       "      <td>A152</td>\n",
       "      <td>1</td>\n",
       "      <td>A172</td>\n",
       "      <td>1</td>\n",
       "      <td>A191</td>\n",
       "      <td>A201</td>\n",
       "      <td>1</td>\n",
       "    </tr>\n",
       "    <tr>\n",
       "      <th>996</th>\n",
       "      <td>A11</td>\n",
       "      <td>30</td>\n",
       "      <td>A32</td>\n",
       "      <td>A41</td>\n",
       "      <td>3857</td>\n",
       "      <td>A61</td>\n",
       "      <td>A73</td>\n",
       "      <td>4</td>\n",
       "      <td>A91</td>\n",
       "      <td>A101</td>\n",
       "      <td>...</td>\n",
       "      <td>A122</td>\n",
       "      <td>40</td>\n",
       "      <td>A143</td>\n",
       "      <td>A152</td>\n",
       "      <td>1</td>\n",
       "      <td>A174</td>\n",
       "      <td>1</td>\n",
       "      <td>A192</td>\n",
       "      <td>A201</td>\n",
       "      <td>1</td>\n",
       "    </tr>\n",
       "    <tr>\n",
       "      <th>997</th>\n",
       "      <td>A14</td>\n",
       "      <td>12</td>\n",
       "      <td>A32</td>\n",
       "      <td>A43</td>\n",
       "      <td>804</td>\n",
       "      <td>A61</td>\n",
       "      <td>A75</td>\n",
       "      <td>4</td>\n",
       "      <td>A93</td>\n",
       "      <td>A101</td>\n",
       "      <td>...</td>\n",
       "      <td>A123</td>\n",
       "      <td>38</td>\n",
       "      <td>A143</td>\n",
       "      <td>A152</td>\n",
       "      <td>1</td>\n",
       "      <td>A173</td>\n",
       "      <td>1</td>\n",
       "      <td>A191</td>\n",
       "      <td>A201</td>\n",
       "      <td>1</td>\n",
       "    </tr>\n",
       "    <tr>\n",
       "      <th>998</th>\n",
       "      <td>A11</td>\n",
       "      <td>45</td>\n",
       "      <td>A32</td>\n",
       "      <td>A43</td>\n",
       "      <td>1845</td>\n",
       "      <td>A61</td>\n",
       "      <td>A73</td>\n",
       "      <td>4</td>\n",
       "      <td>A93</td>\n",
       "      <td>A101</td>\n",
       "      <td>...</td>\n",
       "      <td>A124</td>\n",
       "      <td>23</td>\n",
       "      <td>A143</td>\n",
       "      <td>A153</td>\n",
       "      <td>1</td>\n",
       "      <td>A173</td>\n",
       "      <td>1</td>\n",
       "      <td>A192</td>\n",
       "      <td>A201</td>\n",
       "      <td>2</td>\n",
       "    </tr>\n",
       "    <tr>\n",
       "      <th>999</th>\n",
       "      <td>A12</td>\n",
       "      <td>45</td>\n",
       "      <td>A34</td>\n",
       "      <td>A41</td>\n",
       "      <td>4576</td>\n",
       "      <td>A62</td>\n",
       "      <td>A71</td>\n",
       "      <td>3</td>\n",
       "      <td>A93</td>\n",
       "      <td>A101</td>\n",
       "      <td>...</td>\n",
       "      <td>A123</td>\n",
       "      <td>27</td>\n",
       "      <td>A143</td>\n",
       "      <td>A152</td>\n",
       "      <td>1</td>\n",
       "      <td>A173</td>\n",
       "      <td>1</td>\n",
       "      <td>A191</td>\n",
       "      <td>A201</td>\n",
       "      <td>1</td>\n",
       "    </tr>\n",
       "  </tbody>\n",
       "</table>\n",
       "<p>1000 rows × 21 columns</p>\n",
       "</div>"
      ],
      "text/plain": [
       "    Status of existing account Duration in month Credit History Purpose  \\\n",
       "0                          A11                 6            A34     A43   \n",
       "1                          A12                48            A32     A43   \n",
       "2                          A14                12            A34     A46   \n",
       "3                          A11                42            A32     A42   \n",
       "4                          A11                24            A33     A40   \n",
       "..                         ...               ...            ...     ...   \n",
       "995                        A14                12            A32     A42   \n",
       "996                        A11                30            A32     A41   \n",
       "997                        A14                12            A32     A43   \n",
       "998                        A11                45            A32     A43   \n",
       "999                        A12                45            A34     A41   \n",
       "\n",
       "    Credit amount Savings account/bonds Present employment since  \\\n",
       "0            1169                   A65                      A75   \n",
       "1            5951                   A61                      A73   \n",
       "2            2096                   A61                      A74   \n",
       "3            7882                   A61                      A74   \n",
       "4            4870                   A61                      A73   \n",
       "..            ...                   ...                      ...   \n",
       "995          1736                   A61                      A74   \n",
       "996          3857                   A61                      A73   \n",
       "997           804                   A61                      A75   \n",
       "998          1845                   A61                      A73   \n",
       "999          4576                   A62                      A71   \n",
       "\n",
       "    Installment rate in percentage of disposable income  \\\n",
       "0                                                    4    \n",
       "1                                                    2    \n",
       "2                                                    2    \n",
       "3                                                    2    \n",
       "4                                                    3    \n",
       "..                                                 ...    \n",
       "995                                                  3    \n",
       "996                                                  4    \n",
       "997                                                  4    \n",
       "998                                                  4    \n",
       "999                                                  3    \n",
       "\n",
       "    Personal status and sex Other debtors / guarantors  ... Property Age  \\\n",
       "0                       A93                       A101  ...     A121  67   \n",
       "1                       A92                       A101  ...     A121  22   \n",
       "2                       A93                       A101  ...     A121  49   \n",
       "3                       A93                       A103  ...     A122  45   \n",
       "4                       A93                       A101  ...     A124  53   \n",
       "..                      ...                        ...  ...      ...  ..   \n",
       "995                     A92                       A101  ...     A121  31   \n",
       "996                     A91                       A101  ...     A122  40   \n",
       "997                     A93                       A101  ...     A123  38   \n",
       "998                     A93                       A101  ...     A124  23   \n",
       "999                     A93                       A101  ...     A123  27   \n",
       "\n",
       "    Other installment plans Housing Number of existing credits at this bank  \\\n",
       "0                      A143    A152                                       2   \n",
       "1                      A143    A152                                       1   \n",
       "2                      A143    A152                                       1   \n",
       "3                      A143    A153                                       1   \n",
       "4                      A143    A153                                       2   \n",
       "..                      ...     ...                                     ...   \n",
       "995                    A143    A152                                       1   \n",
       "996                    A143    A152                                       1   \n",
       "997                    A143    A152                                       1   \n",
       "998                    A143    A153                                       1   \n",
       "999                    A143    A152                                       1   \n",
       "\n",
       "      Job Number of people being liable to provide maintenance for Telephone  \\\n",
       "0    A173                                                  1            A192   \n",
       "1    A173                                                  1            A191   \n",
       "2    A172                                                  2            A191   \n",
       "3    A173                                                  2            A191   \n",
       "4    A173                                                  2            A191   \n",
       "..    ...                                                ...             ...   \n",
       "995  A172                                                  1            A191   \n",
       "996  A174                                                  1            A192   \n",
       "997  A173                                                  1            A191   \n",
       "998  A173                                                  1            A192   \n",
       "999  A173                                                  1            A191   \n",
       "\n",
       "    foreign worker Credit_Class  \n",
       "0             A201            1  \n",
       "1             A201            2  \n",
       "2             A201            1  \n",
       "3             A201            1  \n",
       "4             A201            2  \n",
       "..             ...          ...  \n",
       "995           A201            1  \n",
       "996           A201            1  \n",
       "997           A201            1  \n",
       "998           A201            2  \n",
       "999           A201            1  \n",
       "\n",
       "[1000 rows x 21 columns]"
      ]
     },
     "execution_count": 9,
     "metadata": {},
     "output_type": "execute_result"
    }
   ],
   "source": [
    "data"
   ]
  },
  {
   "cell_type": "code",
   "execution_count": 10,
   "metadata": {},
   "outputs": [
    {
     "data": {
      "text/plain": [
       "(1000, 21)"
      ]
     },
     "execution_count": 10,
     "metadata": {},
     "output_type": "execute_result"
    }
   ],
   "source": [
    "#Quantidade de linhas e colunas do dataset\n",
    "data.shape"
   ]
  },
  {
   "cell_type": "code",
   "execution_count": 11,
   "metadata": {},
   "outputs": [
    {
     "name": "stdout",
     "output_type": "stream",
     "text": [
      "<class 'pandas.core.frame.DataFrame'>\n",
      "RangeIndex: 1000 entries, 0 to 999\n",
      "Data columns (total 21 columns):\n",
      " #   Column                                                    Non-Null Count  Dtype \n",
      "---  ------                                                    --------------  ----- \n",
      " 0   Status of existing account                                1000 non-null   object\n",
      " 1   Duration in month                                         1000 non-null   object\n",
      " 2   Credit History                                            1000 non-null   object\n",
      " 3   Purpose                                                   1000 non-null   object\n",
      " 4   Credit amount                                             1000 non-null   object\n",
      " 5   Savings account/bonds                                     1000 non-null   object\n",
      " 6   Present employment since                                  1000 non-null   object\n",
      " 7   Installment rate in percentage of disposable income       1000 non-null   object\n",
      " 8   Personal status and sex                                   1000 non-null   object\n",
      " 9   Other debtors / guarantors                                1000 non-null   object\n",
      " 10  Present residence since                                   1000 non-null   object\n",
      " 11  Property                                                  1000 non-null   object\n",
      " 12  Age                                                       1000 non-null   object\n",
      " 13  Other installment plans                                   1000 non-null   object\n",
      " 14  Housing                                                   1000 non-null   object\n",
      " 15  Number of existing credits at this bank                   1000 non-null   object\n",
      " 16  Job                                                       1000 non-null   object\n",
      " 17  Number of people being liable to provide maintenance for  1000 non-null   object\n",
      " 18  Telephone                                                 1000 non-null   object\n",
      " 19  foreign worker                                            1000 non-null   object\n",
      " 20  Credit_Class                                              995 non-null    object\n",
      "dtypes: object(21)\n",
      "memory usage: 164.2+ KB\n"
     ]
    }
   ],
   "source": [
    "#Obtendo algumas informações gerais do dataset\n",
    "data.info()"
   ]
  },
  {
   "cell_type": "markdown",
   "metadata": {},
   "source": [
    "Como podemos observar acima, as colunas que contem informações númericas não foram renhecidas pelo pandas. Portanto elas serão convertidas manualmente."
   ]
  },
  {
   "cell_type": "code",
   "execution_count": 12,
   "metadata": {},
   "outputs": [],
   "source": [
    "#Variaveis númericas segundo a empresa\n",
    "numerical_columns = [\n",
    "    'Duration in month',\n",
    "    'Credit amount',\n",
    "    'Installment rate in percentage of disposable income',\n",
    "    'Present residence since',\n",
    "    'Age',\n",
    "    'Number of existing credits at this bank',\n",
    "    'Number of people being liable to provide maintenance for',\n",
    "]"
   ]
  },
  {
   "cell_type": "code",
   "execution_count": 13,
   "metadata": {},
   "outputs": [],
   "source": [
    "#Conversão\n",
    "for col in numerical_columns:\n",
    "    data[col] = data[col].astype('float')"
   ]
  },
  {
   "cell_type": "code",
   "execution_count": 14,
   "metadata": {},
   "outputs": [
    {
     "name": "stdout",
     "output_type": "stream",
     "text": [
      "<class 'pandas.core.frame.DataFrame'>\n",
      "RangeIndex: 1000 entries, 0 to 999\n",
      "Data columns (total 21 columns):\n",
      " #   Column                                                    Non-Null Count  Dtype  \n",
      "---  ------                                                    --------------  -----  \n",
      " 0   Status of existing account                                1000 non-null   object \n",
      " 1   Duration in month                                         1000 non-null   float64\n",
      " 2   Credit History                                            1000 non-null   object \n",
      " 3   Purpose                                                   1000 non-null   object \n",
      " 4   Credit amount                                             1000 non-null   float64\n",
      " 5   Savings account/bonds                                     1000 non-null   object \n",
      " 6   Present employment since                                  1000 non-null   object \n",
      " 7   Installment rate in percentage of disposable income       1000 non-null   float64\n",
      " 8   Personal status and sex                                   1000 non-null   object \n",
      " 9   Other debtors / guarantors                                1000 non-null   object \n",
      " 10  Present residence since                                   1000 non-null   float64\n",
      " 11  Property                                                  1000 non-null   object \n",
      " 12  Age                                                       1000 non-null   float64\n",
      " 13  Other installment plans                                   1000 non-null   object \n",
      " 14  Housing                                                   1000 non-null   object \n",
      " 15  Number of existing credits at this bank                   1000 non-null   float64\n",
      " 16  Job                                                       1000 non-null   object \n",
      " 17  Number of people being liable to provide maintenance for  1000 non-null   float64\n",
      " 18  Telephone                                                 1000 non-null   object \n",
      " 19  foreign worker                                            1000 non-null   object \n",
      " 20  Credit_Class                                              995 non-null    object \n",
      "dtypes: float64(7), object(14)\n",
      "memory usage: 164.2+ KB\n"
     ]
    }
   ],
   "source": [
    "#Conferindo a conversão\n",
    "data.info()"
   ]
  },
  {
   "cell_type": "markdown",
   "metadata": {},
   "source": [
    "Como podemos ver acima, as variaveis númericas foram convertidas com sucesso."
   ]
  },
  {
   "cell_type": "markdown",
   "metadata": {},
   "source": [
    "## 4. Limpeza dos dados"
   ]
  },
  {
   "cell_type": "code",
   "execution_count": 15,
   "metadata": {},
   "outputs": [
    {
     "data": {
      "text/plain": [
       "Status of existing account                                  0\n",
       "Duration in month                                           0\n",
       "Credit History                                              0\n",
       "Purpose                                                     0\n",
       "Credit amount                                               0\n",
       "Savings account/bonds                                       0\n",
       "Present employment since                                    0\n",
       "Installment rate in percentage of disposable income         0\n",
       "Personal status and sex                                     0\n",
       "Other debtors / guarantors                                  0\n",
       "Present residence since                                     0\n",
       "Property                                                    0\n",
       "Age                                                         0\n",
       "Other installment plans                                     0\n",
       "Housing                                                     0\n",
       "Number of existing credits at this bank                     0\n",
       "Job                                                         0\n",
       "Number of people being liable to provide maintenance for    0\n",
       "Telephone                                                   0\n",
       "foreign worker                                              0\n",
       "Credit_Class                                                5\n",
       "dtype: int64"
      ]
     },
     "execution_count": 15,
     "metadata": {},
     "output_type": "execute_result"
    }
   ],
   "source": [
    "#Checkando se há valores nulos\n",
    "data.isnull().sum()"
   ]
  },
  {
   "cell_type": "markdown",
   "metadata": {},
   "source": [
    "Como podemos observar, há 5 valores faltantes na coluna de Credit_Class"
   ]
  },
  {
   "cell_type": "code",
   "execution_count": 16,
   "metadata": {},
   "outputs": [
    {
     "data": {
      "text/html": [
       "<div>\n",
       "<style scoped>\n",
       "    .dataframe tbody tr th:only-of-type {\n",
       "        vertical-align: middle;\n",
       "    }\n",
       "\n",
       "    .dataframe tbody tr th {\n",
       "        vertical-align: top;\n",
       "    }\n",
       "\n",
       "    .dataframe thead th {\n",
       "        text-align: right;\n",
       "    }\n",
       "</style>\n",
       "<table border=\"1\" class=\"dataframe\">\n",
       "  <thead>\n",
       "    <tr style=\"text-align: right;\">\n",
       "      <th></th>\n",
       "      <th>Status of existing account</th>\n",
       "      <th>Duration in month</th>\n",
       "      <th>Credit History</th>\n",
       "      <th>Purpose</th>\n",
       "      <th>Credit amount</th>\n",
       "      <th>Savings account/bonds</th>\n",
       "      <th>Present employment since</th>\n",
       "      <th>Installment rate in percentage of disposable income</th>\n",
       "      <th>Personal status and sex</th>\n",
       "      <th>Other debtors / guarantors</th>\n",
       "      <th>...</th>\n",
       "      <th>Property</th>\n",
       "      <th>Age</th>\n",
       "      <th>Other installment plans</th>\n",
       "      <th>Housing</th>\n",
       "      <th>Number of existing credits at this bank</th>\n",
       "      <th>Job</th>\n",
       "      <th>Number of people being liable to provide maintenance for</th>\n",
       "      <th>Telephone</th>\n",
       "      <th>foreign worker</th>\n",
       "      <th>Credit_Class</th>\n",
       "    </tr>\n",
       "  </thead>\n",
       "  <tbody>\n",
       "    <tr>\n",
       "      <th>105</th>\n",
       "      <td>A12</td>\n",
       "      <td>24.0</td>\n",
       "      <td>A34</td>\n",
       "      <td>A410</td>\n",
       "      <td>11938.0</td>\n",
       "      <td>A61</td>\n",
       "      <td>A73</td>\n",
       "      <td>2.0</td>\n",
       "      <td>A93</td>\n",
       "      <td>A102</td>\n",
       "      <td>...</td>\n",
       "      <td>A123</td>\n",
       "      <td>39.0</td>\n",
       "      <td>A143</td>\n",
       "      <td>A152</td>\n",
       "      <td>2.0</td>\n",
       "      <td>A174</td>\n",
       "      <td>2.0</td>\n",
       "      <td>A192</td>\n",
       "      <td>A201</td>\n",
       "      <td>None</td>\n",
       "    </tr>\n",
       "    <tr>\n",
       "      <th>374</th>\n",
       "      <td>A12</td>\n",
       "      <td>60.0</td>\n",
       "      <td>A31</td>\n",
       "      <td>A410</td>\n",
       "      <td>14782.0</td>\n",
       "      <td>A62</td>\n",
       "      <td>A75</td>\n",
       "      <td>3.0</td>\n",
       "      <td>A92</td>\n",
       "      <td>A101</td>\n",
       "      <td>...</td>\n",
       "      <td>A124</td>\n",
       "      <td>60.0</td>\n",
       "      <td>A141</td>\n",
       "      <td>A153</td>\n",
       "      <td>2.0</td>\n",
       "      <td>A174</td>\n",
       "      <td>1.0</td>\n",
       "      <td>A192</td>\n",
       "      <td>A201</td>\n",
       "      <td>None</td>\n",
       "    </tr>\n",
       "    <tr>\n",
       "      <th>431</th>\n",
       "      <td>A12</td>\n",
       "      <td>24.0</td>\n",
       "      <td>A32</td>\n",
       "      <td>A410</td>\n",
       "      <td>11328.0</td>\n",
       "      <td>A61</td>\n",
       "      <td>A73</td>\n",
       "      <td>2.0</td>\n",
       "      <td>A93</td>\n",
       "      <td>A102</td>\n",
       "      <td>...</td>\n",
       "      <td>A123</td>\n",
       "      <td>29.0</td>\n",
       "      <td>A141</td>\n",
       "      <td>A152</td>\n",
       "      <td>2.0</td>\n",
       "      <td>A174</td>\n",
       "      <td>1.0</td>\n",
       "      <td>A192</td>\n",
       "      <td>A201</td>\n",
       "      <td>None</td>\n",
       "    </tr>\n",
       "    <tr>\n",
       "      <th>818</th>\n",
       "      <td>A11</td>\n",
       "      <td>36.0</td>\n",
       "      <td>A32</td>\n",
       "      <td>A410</td>\n",
       "      <td>15857.0</td>\n",
       "      <td>A61</td>\n",
       "      <td>A71</td>\n",
       "      <td>2.0</td>\n",
       "      <td>A91</td>\n",
       "      <td>A102</td>\n",
       "      <td>...</td>\n",
       "      <td>A123</td>\n",
       "      <td>43.0</td>\n",
       "      <td>A143</td>\n",
       "      <td>A152</td>\n",
       "      <td>1.0</td>\n",
       "      <td>A174</td>\n",
       "      <td>1.0</td>\n",
       "      <td>A191</td>\n",
       "      <td>A201</td>\n",
       "      <td>None</td>\n",
       "    </tr>\n",
       "    <tr>\n",
       "      <th>915</th>\n",
       "      <td>A12</td>\n",
       "      <td>48.0</td>\n",
       "      <td>A30</td>\n",
       "      <td>A410</td>\n",
       "      <td>18424.0</td>\n",
       "      <td>A61</td>\n",
       "      <td>A73</td>\n",
       "      <td>1.0</td>\n",
       "      <td>A92</td>\n",
       "      <td>A101</td>\n",
       "      <td>...</td>\n",
       "      <td>A122</td>\n",
       "      <td>32.0</td>\n",
       "      <td>A141</td>\n",
       "      <td>A152</td>\n",
       "      <td>1.0</td>\n",
       "      <td>A174</td>\n",
       "      <td>1.0</td>\n",
       "      <td>A192</td>\n",
       "      <td>A202</td>\n",
       "      <td>None</td>\n",
       "    </tr>\n",
       "  </tbody>\n",
       "</table>\n",
       "<p>5 rows × 21 columns</p>\n",
       "</div>"
      ],
      "text/plain": [
       "    Status of existing account  Duration in month Credit History Purpose  \\\n",
       "105                        A12               24.0            A34    A410   \n",
       "374                        A12               60.0            A31    A410   \n",
       "431                        A12               24.0            A32    A410   \n",
       "818                        A11               36.0            A32    A410   \n",
       "915                        A12               48.0            A30    A410   \n",
       "\n",
       "     Credit amount Savings account/bonds Present employment since  \\\n",
       "105        11938.0                   A61                      A73   \n",
       "374        14782.0                   A62                      A75   \n",
       "431        11328.0                   A61                      A73   \n",
       "818        15857.0                   A61                      A71   \n",
       "915        18424.0                   A61                      A73   \n",
       "\n",
       "     Installment rate in percentage of disposable income  \\\n",
       "105                                                2.0     \n",
       "374                                                3.0     \n",
       "431                                                2.0     \n",
       "818                                                2.0     \n",
       "915                                                1.0     \n",
       "\n",
       "    Personal status and sex Other debtors / guarantors  ...  Property   Age  \\\n",
       "105                     A93                       A102  ...      A123  39.0   \n",
       "374                     A92                       A101  ...      A124  60.0   \n",
       "431                     A93                       A102  ...      A123  29.0   \n",
       "818                     A91                       A102  ...      A123  43.0   \n",
       "915                     A92                       A101  ...      A122  32.0   \n",
       "\n",
       "     Other installment plans Housing Number of existing credits at this bank  \\\n",
       "105                     A143    A152                                     2.0   \n",
       "374                     A141    A153                                     2.0   \n",
       "431                     A141    A152                                     2.0   \n",
       "818                     A143    A152                                     1.0   \n",
       "915                     A141    A152                                     1.0   \n",
       "\n",
       "      Job Number of people being liable to provide maintenance for  Telephone  \\\n",
       "105  A174                                                2.0             A192   \n",
       "374  A174                                                1.0             A192   \n",
       "431  A174                                                1.0             A192   \n",
       "818  A174                                                1.0             A191   \n",
       "915  A174                                                1.0             A192   \n",
       "\n",
       "    foreign worker Credit_Class  \n",
       "105           A201         None  \n",
       "374           A201         None  \n",
       "431           A201         None  \n",
       "818           A201         None  \n",
       "915           A202         None  \n",
       "\n",
       "[5 rows x 21 columns]"
      ]
     },
     "execution_count": 16,
     "metadata": {},
     "output_type": "execute_result"
    }
   ],
   "source": [
    "#Observando as linhas que possuem a informação faltante\n",
    "data[data['Credit_Class'].isnull()]"
   ]
  },
  {
   "cell_type": "markdown",
   "metadata": {},
   "source": [
    "Como não sabemos o real motivo destas linhas apresentarem valores nulos, então elas serão removidas da análise."
   ]
  },
  {
   "cell_type": "code",
   "execution_count": 17,
   "metadata": {},
   "outputs": [],
   "source": [
    "#Eliminando as linhas com valores nulos\n",
    "data = data.dropna()"
   ]
  },
  {
   "cell_type": "code",
   "execution_count": 18,
   "metadata": {},
   "outputs": [
    {
     "data": {
      "text/plain": [
       "Status of existing account                                  0\n",
       "Duration in month                                           0\n",
       "Credit History                                              0\n",
       "Purpose                                                     0\n",
       "Credit amount                                               0\n",
       "Savings account/bonds                                       0\n",
       "Present employment since                                    0\n",
       "Installment rate in percentage of disposable income         0\n",
       "Personal status and sex                                     0\n",
       "Other debtors / guarantors                                  0\n",
       "Present residence since                                     0\n",
       "Property                                                    0\n",
       "Age                                                         0\n",
       "Other installment plans                                     0\n",
       "Housing                                                     0\n",
       "Number of existing credits at this bank                     0\n",
       "Job                                                         0\n",
       "Number of people being liable to provide maintenance for    0\n",
       "Telephone                                                   0\n",
       "foreign worker                                              0\n",
       "Credit_Class                                                0\n",
       "dtype: int64"
      ]
     },
     "execution_count": 18,
     "metadata": {},
     "output_type": "execute_result"
    }
   ],
   "source": [
    "#Checkando se os valores nulos foram retirados\n",
    "data.isnull().sum()"
   ]
  },
  {
   "cell_type": "code",
   "execution_count": 19,
   "metadata": {},
   "outputs": [
    {
     "data": {
      "text/plain": [
       "0"
      ]
     },
     "execution_count": 19,
     "metadata": {},
     "output_type": "execute_result"
    }
   ],
   "source": [
    "#Checkando se há valores duplicados\n",
    "data.duplicated().sum()"
   ]
  },
  {
   "cell_type": "code",
   "execution_count": 20,
   "metadata": {},
   "outputs": [
    {
     "data": {
      "image/png": "[encoded data removed]",
      "text/plain": [
       "<Figure size 1080x216 with 1 Axes>"
      ]
     },
     "metadata": {
      "needs_background": "light"
     },
     "output_type": "display_data"
    },
    {
     "data": {
      "image/png": "[encoded data removed]",
      "text/plain": [
       "<Figure size 1080x216 with 1 Axes>"
      ]
     },
     "metadata": {
      "needs_background": "light"
     },
     "output_type": "display_data"
    },
    {
     "data": {
      "image/png": "[encoded data removed]",
      "text/plain": [
       "<Figure size 1080x216 with 1 Axes>"
      ]
     },
     "metadata": {
      "needs_background": "light"
     },
     "output_type": "display_data"
    },
    {
     "data": {
      "image/png": "[encoded data removed]",
      "text/plain": [
       "<Figure size 1080x216 with 1 Axes>"
      ]
     },
     "metadata": {
      "needs_background": "light"
     },
     "output_type": "display_data"
    },
    {
     "data": {
      "image/png": "[encoded data removed]",
      "text/plain": [
       "<Figure size 1080x216 with 1 Axes>"
      ]
     },
     "metadata": {
      "needs_background": "light"
     },
     "output_type": "display_data"
    },
    {
     "data": {
      "image/png": "[encoded data removed]",
      "text/plain": [
       "<Figure size 1080x216 with 1 Axes>"
      ]
     },
     "metadata": {
      "needs_background": "light"
     },
     "output_type": "display_data"
    },
    {
     "data": {
      "image/png": "[encoded data removed]",
      "text/plain": [
       "<Figure size 1080x216 with 1 Axes>"
      ]
     },
     "metadata": {
      "needs_background": "light"
     },
     "output_type": "display_data"
    }
   ],
   "source": [
    "#Checkando se há outliers nas colunas numéricas\n",
    "for col in numerical_columns:\n",
    "    plt.figure(figsize=(15,3))\n",
    "    sns.boxplot(x = data[col])\n",
    "    plt.show()"
   ]
  },
  {
   "cell_type": "markdown",
   "metadata": {},
   "source": [
    "Como mostrado acima, nas colunas: Credit amount, Idade, Number os existing credits at this bank e Number of people being liable to provide maintenance for; há a presença de outliers.\n",
    "\n",
    "Como não sabemos a origem deste outliers, a melhor decisão a ser tomada é mante-lôs nos dados."
   ]
  },
  {
   "cell_type": "markdown",
   "metadata": {},
   "source": [
    "## 5. EDA (Exploratory Data Analysis)"
   ]
  },
  {
   "cell_type": "markdown",
   "metadata": {},
   "source": [
    "Nesta seção será analisa as relações das variavéis contidas neste conjunto de dados e como ela está relacionada com a classificação do cliente, que é o objetivo deste projeto."
   ]
  },
  {
   "cell_type": "code",
   "execution_count": 21,
   "metadata": {},
   "outputs": [
    {
     "data": {
      "text/html": [
       "<div>\n",
       "<style scoped>\n",
       "    .dataframe tbody tr th:only-of-type {\n",
       "        vertical-align: middle;\n",
       "    }\n",
       "\n",
       "    .dataframe tbody tr th {\n",
       "        vertical-align: top;\n",
       "    }\n",
       "\n",
       "    .dataframe thead th {\n",
       "        text-align: right;\n",
       "    }\n",
       "</style>\n",
       "<table border=\"1\" class=\"dataframe\">\n",
       "  <thead>\n",
       "    <tr style=\"text-align: right;\">\n",
       "      <th></th>\n",
       "      <th>Duration in month</th>\n",
       "      <th>Credit amount</th>\n",
       "      <th>Installment rate in percentage of disposable income</th>\n",
       "      <th>Present residence since</th>\n",
       "      <th>Age</th>\n",
       "      <th>Number of existing credits at this bank</th>\n",
       "      <th>Number of people being liable to provide maintenance for</th>\n",
       "    </tr>\n",
       "  </thead>\n",
       "  <tbody>\n",
       "    <tr>\n",
       "      <th>count</th>\n",
       "      <td>995.000000</td>\n",
       "      <td>995.000000</td>\n",
       "      <td>995.000000</td>\n",
       "      <td>995.000000</td>\n",
       "      <td>995.000000</td>\n",
       "      <td>995.000000</td>\n",
       "      <td>995.000000</td>\n",
       "    </tr>\n",
       "    <tr>\n",
       "      <th>mean</th>\n",
       "      <td>20.815075</td>\n",
       "      <td>3215.004020</td>\n",
       "      <td>2.977889</td>\n",
       "      <td>2.844221</td>\n",
       "      <td>35.520603</td>\n",
       "      <td>1.406030</td>\n",
       "      <td>1.154774</td>\n",
       "    </tr>\n",
       "    <tr>\n",
       "      <th>std</th>\n",
       "      <td>11.983892</td>\n",
       "      <td>2709.287952</td>\n",
       "      <td>1.118490</td>\n",
       "      <td>1.105526</td>\n",
       "      <td>11.372172</td>\n",
       "      <td>0.577899</td>\n",
       "      <td>0.361871</td>\n",
       "    </tr>\n",
       "    <tr>\n",
       "      <th>min</th>\n",
       "      <td>4.000000</td>\n",
       "      <td>250.000000</td>\n",
       "      <td>1.000000</td>\n",
       "      <td>1.000000</td>\n",
       "      <td>19.000000</td>\n",
       "      <td>1.000000</td>\n",
       "      <td>1.000000</td>\n",
       "    </tr>\n",
       "    <tr>\n",
       "      <th>25%</th>\n",
       "      <td>12.000000</td>\n",
       "      <td>1364.000000</td>\n",
       "      <td>2.000000</td>\n",
       "      <td>2.000000</td>\n",
       "      <td>27.000000</td>\n",
       "      <td>1.000000</td>\n",
       "      <td>1.000000</td>\n",
       "    </tr>\n",
       "    <tr>\n",
       "      <th>50%</th>\n",
       "      <td>18.000000</td>\n",
       "      <td>2303.000000</td>\n",
       "      <td>3.000000</td>\n",
       "      <td>3.000000</td>\n",
       "      <td>33.000000</td>\n",
       "      <td>1.000000</td>\n",
       "      <td>1.000000</td>\n",
       "    </tr>\n",
       "    <tr>\n",
       "      <th>75%</th>\n",
       "      <td>24.000000</td>\n",
       "      <td>3959.000000</td>\n",
       "      <td>4.000000</td>\n",
       "      <td>4.000000</td>\n",
       "      <td>42.000000</td>\n",
       "      <td>2.000000</td>\n",
       "      <td>1.000000</td>\n",
       "    </tr>\n",
       "    <tr>\n",
       "      <th>max</th>\n",
       "      <td>72.000000</td>\n",
       "      <td>15945.000000</td>\n",
       "      <td>4.000000</td>\n",
       "      <td>4.000000</td>\n",
       "      <td>75.000000</td>\n",
       "      <td>4.000000</td>\n",
       "      <td>2.000000</td>\n",
       "    </tr>\n",
       "  </tbody>\n",
       "</table>\n",
       "</div>"
      ],
      "text/plain": [
       "       Duration in month  Credit amount  \\\n",
       "count         995.000000     995.000000   \n",
       "mean           20.815075    3215.004020   \n",
       "std            11.983892    2709.287952   \n",
       "min             4.000000     250.000000   \n",
       "25%            12.000000    1364.000000   \n",
       "50%            18.000000    2303.000000   \n",
       "75%            24.000000    3959.000000   \n",
       "max            72.000000   15945.000000   \n",
       "\n",
       "       Installment rate in percentage of disposable income  \\\n",
       "count                                         995.000000     \n",
       "mean                                            2.977889     \n",
       "std                                             1.118490     \n",
       "min                                             1.000000     \n",
       "25%                                             2.000000     \n",
       "50%                                             3.000000     \n",
       "75%                                             4.000000     \n",
       "max                                             4.000000     \n",
       "\n",
       "       Present residence since         Age  \\\n",
       "count               995.000000  995.000000   \n",
       "mean                  2.844221   35.520603   \n",
       "std                   1.105526   11.372172   \n",
       "min                   1.000000   19.000000   \n",
       "25%                   2.000000   27.000000   \n",
       "50%                   3.000000   33.000000   \n",
       "75%                   4.000000   42.000000   \n",
       "max                   4.000000   75.000000   \n",
       "\n",
       "       Number of existing credits at this bank  \\\n",
       "count                               995.000000   \n",
       "mean                                  1.406030   \n",
       "std                                   0.577899   \n",
       "min                                   1.000000   \n",
       "25%                                   1.000000   \n",
       "50%                                   1.000000   \n",
       "75%                                   2.000000   \n",
       "max                                   4.000000   \n",
       "\n",
       "       Number of people being liable to provide maintenance for  \n",
       "count                                         995.000000         \n",
       "mean                                            1.154774         \n",
       "std                                             0.361871         \n",
       "min                                             1.000000         \n",
       "25%                                             1.000000         \n",
       "50%                                             1.000000         \n",
       "75%                                             1.000000         \n",
       "max                                             2.000000         "
      ]
     },
     "execution_count": 21,
     "metadata": {},
     "output_type": "execute_result"
    }
   ],
   "source": [
    "#Obtendo as informações de estatística descritiva das variaveis númericas\n",
    "data.describe()"
   ]
  },
  {
   "cell_type": "code",
   "execution_count": 22,
   "metadata": {},
   "outputs": [],
   "source": [
    "#Pegando as colunas categoricas\n",
    "categorical_columns = data.select_dtypes(include='object').columns\n",
    "\n",
    "categorical_columns = categorical_columns.to_list()"
   ]
  },
  {
   "cell_type": "code",
   "execution_count": 23,
   "metadata": {},
   "outputs": [
    {
     "data": {
      "text/plain": [
       "['Status of existing account',\n",
       " 'Credit History',\n",
       " 'Purpose',\n",
       " 'Savings account/bonds',\n",
       " 'Present employment since',\n",
       " 'Personal status and sex',\n",
       " 'Other debtors / guarantors',\n",
       " 'Property',\n",
       " 'Other installment plans',\n",
       " 'Housing',\n",
       " 'Job',\n",
       " 'Telephone',\n",
       " 'foreign worker',\n",
       " 'Credit_Class']"
      ]
     },
     "execution_count": 23,
     "metadata": {},
     "output_type": "execute_result"
    }
   ],
   "source": [
    "categorical_columns"
   ]
  },
  {
   "cell_type": "code",
   "execution_count": 24,
   "metadata": {},
   "outputs": [
    {
     "name": "stdout",
     "output_type": "stream",
     "text": [
      "Status of existing account : has 4 differents categories\n",
      "Credit History : has 5 differents categories\n",
      "Purpose : has 10 differents categories\n",
      "Savings account/bonds : has 5 differents categories\n",
      "Present employment since : has 5 differents categories\n",
      "Personal status and sex : has 4 differents categories\n",
      "Other debtors / guarantors : has 3 differents categories\n",
      "Property : has 4 differents categories\n",
      "Other installment plans : has 3 differents categories\n",
      "Housing : has 3 differents categories\n",
      "Job : has 4 differents categories\n",
      "Telephone : has 2 differents categories\n",
      "foreign worker : has 2 differents categories\n",
      "Credit_Class : has 2 differents categories\n"
     ]
    }
   ],
   "source": [
    "#Observando quantos valores únicos existe em cada variavel categórica\n",
    "for col in categorical_columns:\n",
    "    print(col ,': has',data[col].nunique(),'differents categories')"
   ]
  },
  {
   "cell_type": "code",
   "execution_count": 25,
   "metadata": {},
   "outputs": [],
   "source": [
    "#Configurando o fundo dos gráficos\n",
    "sns.set_style('darkgrid')"
   ]
  },
  {
   "cell_type": "code",
   "execution_count": 26,
   "metadata": {},
   "outputs": [
    {
     "data": {
      "image/png": "[encoded data removed]",
      "text/plain": [
       "<Figure size 432x288 with 1 Axes>"
      ]
     },
     "metadata": {},
     "output_type": "display_data"
    }
   ],
   "source": [
    "#Observando a variável alvo\n",
    "ax = sns.countplot(data['Credit_Class'])\n",
    "for p in ax.patches:\n",
    "    height = p.get_height()\n",
    "    ax.text(x = p.get_x()+(p.get_width()/2),  y  = height * 1.02 , s = '{:.0f}'.format(height), ha = 'center')"
   ]
  },
  {
   "cell_type": "markdown",
   "metadata": {},
   "source": [
    "Como podemos ver, existe mais clientes do tipo 1 do que do tipo 2. Assim podemos concluir que há um desbalanceamento de classes nesta análise."
   ]
  },
  {
   "cell_type": "markdown",
   "metadata": {},
   "source": [
    "### 5.1 Variáveis Categóricas"
   ]
  },
  {
   "cell_type": "markdown",
   "metadata": {},
   "source": [
    "Será explorado as variaveis categóricas e suas relações com a classificação dos clientes"
   ]
  },
  {
   "cell_type": "code",
   "execution_count": 27,
   "metadata": {},
   "outputs": [
    {
     "data": {
      "image/png": "[encoded data removed]",
      "text/plain": [
       "<Figure size 432x288 with 1 Axes>"
      ]
     },
     "metadata": {},
     "output_type": "display_data"
    },
    {
     "data": {
      "image/png": "[encoded data removed]",
      "text/plain": [
       "<Figure size 432x288 with 1 Axes>"
      ]
     },
     "metadata": {},
     "output_type": "display_data"
    },
    {
     "data": {
      "image/png": "[encoded data removed]",
      "text/plain": [
       "<Figure size 432x288 with 1 Axes>"
      ]
     },
     "metadata": {},
     "output_type": "display_data"
    },
    {
     "data": {
      "image/png": "[encoded data removed]",
      "text/plain": [
       "<Figure size 432x288 with 1 Axes>"
      ]
     },
     "metadata": {},
     "output_type": "display_data"
    },
    {
     "data": {
      "image/png": "[encoded data removed]",
      "text/plain": [
       "<Figure size 432x288 with 1 Axes>"
      ]
     },
     "metadata": {},
     "output_type": "display_data"
    },
    {
     "data": {
      "image/png": "[encoded data removed]",
      "text/plain": [
       "<Figure size 432x288 with 1 Axes>"
      ]
     },
     "metadata": {},
     "output_type": "display_data"
    },
    {
     "data": {
      "image/png": "[encoded data removed]",
      "text/plain": [
       "<Figure size 432x288 with 1 Axes>"
      ]
     },
     "metadata": {},
     "output_type": "display_data"
    },
    {
     "data": {
      "image/png": "[encoded data removed]",
      "text/plain": [
       "<Figure size 432x288 with 1 Axes>"
      ]
     },
     "metadata": {},
     "output_type": "display_data"
    },
    {
     "data": {
      "image/png": "[encoded data removed]",
      "text/plain": [
       "<Figure size 432x288 with 1 Axes>"
      ]
     },
     "metadata": {},
     "output_type": "display_data"
    },
    {
     "data": {
      "image/png": "[encoded data removed]",
      "text/plain": [
       "<Figure size 432x288 with 1 Axes>"
      ]
     },
     "metadata": {},
     "output_type": "display_data"
    },
    {
     "data": {
      "image/png": "[encoded data removed]",
      "text/plain": [
       "<Figure size 432x288 with 1 Axes>"
      ]
     },
     "metadata": {},
     "output_type": "display_data"
    },
    {
     "data": {
      "image/png": "[encoded data removed]",
      "text/plain": [
       "<Figure size 432x288 with 1 Axes>"
      ]
     },
     "metadata": {},
     "output_type": "display_data"
    },
    {
     "data": {
      "image/png": "[encoded data removed]",
      "text/plain": [
       "<Figure size 432x288 with 1 Axes>"
      ]
     },
     "metadata": {},
     "output_type": "display_data"
    },
    {
     "data": {
      "image/png": "[encoded data removed]",
      "text/plain": [
       "<Figure size 432x288 with 1 Axes>"
      ]
     },
     "metadata": {},
     "output_type": "display_data"
    }
   ],
   "source": [
    "#Exibindo gráficos da variaveis categóricas\n",
    "for col in categorical_columns:\n",
    "    ax = sns.countplot(data[col])\n",
    "    for p in ax.patches:\n",
    "        height = p.get_height()\n",
    "        ax.text(x = p.get_x()+(p.get_width()/2),  y  = height * 1.02 , s = '{:.0f}'.format(height), ha = 'center')\n",
    "    plt.show()"
   ]
  },
  {
   "cell_type": "code",
   "execution_count": 28,
   "metadata": {},
   "outputs": [
    {
     "data": {
      "image/png": "[encoded data removed]",
      "text/plain": [
       "<Figure size 720x360 with 2 Axes>"
      ]
     },
     "metadata": {},
     "output_type": "display_data"
    },
    {
     "data": {
      "image/png": "[encoded data removed]",
      "text/plain": [
       "<Figure size 720x360 with 2 Axes>"
      ]
     },
     "metadata": {},
     "output_type": "display_data"
    },
    {
     "data": {
      "image/png": "[encoded data removed]",
      "text/plain": [
       "<Figure size 720x360 with 2 Axes>"
      ]
     },
     "metadata": {},
     "output_type": "display_data"
    },
    {
     "data": {
      "image/png": "[encoded data removed]",
      "text/plain": [
       "<Figure size 720x360 with 2 Axes>"
      ]
     },
     "metadata": {},
     "output_type": "display_data"
    },
    {
     "data": {
      "image/png": "[encoded data removed]",
      "text/plain": [
       "<Figure size 720x360 with 2 Axes>"
      ]
     },
     "metadata": {},
     "output_type": "display_data"
    },
    {
     "data": {
      "image/png": "[encoded data removed]",
      "text/plain": [
       "<Figure size 720x360 with 2 Axes>"
      ]
     },
     "metadata": {},
     "output_type": "display_data"
    },
    {
     "data": {
      "image/png": "[encoded data removed]",
      "text/plain": [
       "<Figure size 720x360 with 2 Axes>"
      ]
     },
     "metadata": {},
     "output_type": "display_data"
    },
    {
     "data": {
      "image/png": "[encoded data removed]",
      "text/plain": [
       "<Figure size 720x360 with 2 Axes>"
      ]
     },
     "metadata": {},
     "output_type": "display_data"
    },
    {
     "data": {
      "image/png": "[encoded data removed]",
      "text/plain": [
       "<Figure size 720x360 with 2 Axes>"
      ]
     },
     "metadata": {},
     "output_type": "display_data"
    },
    {
     "data": {
      "image/png": "[encoded data removed]",
      "text/plain": [
       "<Figure size 720x360 with 2 Axes>"
      ]
     },
     "metadata": {},
     "output_type": "display_data"
    },
    {
     "data": {
      "image/png": "[encoded data removed]",
      "text/plain": [
       "<Figure size 720x360 with 2 Axes>"
      ]
     },
     "metadata": {},
     "output_type": "display_data"
    },
    {
     "data": {
      "image/png": "[encoded data removed]",
      "text/plain": [
       "<Figure size 720x360 with 2 Axes>"
      ]
     },
     "metadata": {},
     "output_type": "display_data"
    },
    {
     "data": {
      "image/png": "[encoded data removed]",
      "text/plain": [
       "<Figure size 720x360 with 2 Axes>"
      ]
     },
     "metadata": {},
     "output_type": "display_data"
    },
    {
     "name": "stderr",
     "output_type": "stream",
     "text": [
      "posx and posy should be finite values\n",
      "posx and posy should be finite values\n",
      "posx and posy should be finite values\n",
      "posx and posy should be finite values\n"
     ]
    },
    {
     "data": {
      "image/png": "[encoded data removed]",
      "text/plain": [
       "<Figure size 720x360 with 2 Axes>"
      ]
     },
     "metadata": {},
     "output_type": "display_data"
    }
   ],
   "source": [
    "#Observando a relação de cada variavel categórica com a classe do cliente\n",
    "for col in categorical_columns:\n",
    "    if data[col].nunique() <= 10:\n",
    "        g = sns.catplot(x = col, kind='count', col = 'Credit_Class', data=data, sharey=False)\n",
    "        g.set_xticklabels(rotation=60)\n",
    "        for i in range(data['Credit_Class'].nunique()):\n",
    "            ax = g.facet_axis(0,i)\n",
    "            for p in ax.patches:\n",
    "                height = p.get_height()\n",
    "                ax.text(x = p.get_x()+(p.get_width()/2),  y  = height * 1.02 , s = '{:.0f}'.format(height), ha = 'center')"
   ]
  },
  {
   "cell_type": "markdown",
   "metadata": {},
   "source": [
    "A partir dos dados acima, podemos concluir que as variaveís:\n",
    "\n",
    "- Status of existing account: Clientes com status A11, A12 possuem mais tendência a serem Classe 2 e com status A14 a serem Classe 1\n",
    "- Credit History: Clientes com histórico A34 tem mais tendência a serem Classe 1\n",
    "- Purpose: Cliente Classe 1 normalmente são A43 e A41, e cliente classe 2 A40.\n",
    "- Savings account/bonds: Não existe muito diferença entre os tipos de cliente, mas Cliente Classe 1 apresenta um maior status A65\n",
    "- Present employment since: Clientes Classe 2 apresentam mais tendência a A72 e Classe 1 a A75.\n",
    "- Personal status and sex: Clientes 2 apresentam apresentam um ligeira tendência a A92.\n",
    "- Other debtors/guarantors: Não Existe muita diferença entre os tipos de classe de cliente.\n",
    "- Property: Cliente Classe 1 apresentam mais tendência a A121 e Cliente Classe 2 a A124.\n",
    "- Other installment plans: Não existe muita difença entre os tipos de classe de cliente.\n",
    "- Housing: Não existe muita difença entre os tipos de classe de cliente.\n",
    "- Job: Não existe muita difença entre os tipos de classe de cliente.\n",
    "- Telephone: Não existe muita difença entre os tipos de classe de cliente.\n",
    "- Foreign worker: Não existe muita difença entre os tipos de classe de cliente."
   ]
  },
  {
   "cell_type": "markdown",
   "metadata": {},
   "source": [
    "### 5.2  Variáveis Númericas"
   ]
  },
  {
   "cell_type": "markdown",
   "metadata": {},
   "source": [
    "Será explorado as variaveis númericas e suas relações com a classificação dos clientes"
   ]
  },
  {
   "cell_type": "code",
   "execution_count": 29,
   "metadata": {},
   "outputs": [
    {
     "data": {
      "text/plain": [
       "<matplotlib.axes._subplots.AxesSubplot at 0x17bd5487160>"
      ]
     },
     "execution_count": 29,
     "metadata": {},
     "output_type": "execute_result"
    },
    {
     "data": {
      "image/png": "[encoded data removed]",
      "text/plain": [
       "<Figure size 1080x720 with 2 Axes>"
      ]
     },
     "metadata": {},
     "output_type": "display_data"
    }
   ],
   "source": [
    "#Analisando a correlação entre as variaveis númericas\n",
    "plt.figure(figsize = (15,10))\n",
    "sns.heatmap(data.corr(), annot = True)"
   ]
  },
  {
   "cell_type": "markdown",
   "metadata": {},
   "source": [
    "A partir do gráfico acima, podemos concluir que:\n",
    "\n",
    "- O Credit Amount apresenta uma correlação mediana com a Duration in Mounts\n",
    "- A Idade apresent uma correlação fraca com a variavel Present Residence since\n",
    "- A Installment rate in percentage of disposaable income apresenta um correlação fraca negativa com a Credit Amount\n",
    "\n",
    "Como que as correlações são baixas, não será necessário a eliminação de nenhuma variável"
   ]
  },
  {
   "cell_type": "code",
   "execution_count": 30,
   "metadata": {},
   "outputs": [
    {
     "data": {
      "image/png": "[encoded data removed]",
      "text/plain": [
       "<Figure size 1080x288 with 1 Axes>"
      ]
     },
     "metadata": {},
     "output_type": "display_data"
    },
    {
     "data": {
      "image/png": "[encoded data removed]",
      "text/plain": [
       "<Figure size 1080x288 with 1 Axes>"
      ]
     },
     "metadata": {},
     "output_type": "display_data"
    },
    {
     "data": {
      "image/png": "[encoded data removed]",
      "text/plain": [
       "<Figure size 1080x288 with 1 Axes>"
      ]
     },
     "metadata": {},
     "output_type": "display_data"
    },
    {
     "data": {
      "image/png": "[encoded data removed]",
      "text/plain": [
       "<Figure size 1080x288 with 1 Axes>"
      ]
     },
     "metadata": {},
     "output_type": "display_data"
    },
    {
     "data": {
      "image/png": "[encoded data removed]",
      "text/plain": [
       "<Figure size 1080x288 with 1 Axes>"
      ]
     },
     "metadata": {},
     "output_type": "display_data"
    },
    {
     "data": {
      "image/png": "[encoded data removed]",
      "text/plain": [
       "<Figure size 1080x288 with 1 Axes>"
      ]
     },
     "metadata": {},
     "output_type": "display_data"
    },
    {
     "data": {
      "image/png": "[encoded data removed]",
      "text/plain": [
       "<Figure size 1080x288 with 1 Axes>"
      ]
     },
     "metadata": {},
     "output_type": "display_data"
    }
   ],
   "source": [
    "#Exibindo histogramas das varíaveis categóricas\n",
    "for col in numerical_columns:\n",
    "    plt.figure(figsize = (15,4))\n",
    "    sns.histplot(data[col])\n",
    "    plt.show()"
   ]
  },
  {
   "cell_type": "code",
   "execution_count": 31,
   "metadata": {},
   "outputs": [
    {
     "data": {
      "text/html": [
       "<div>\n",
       "<style scoped>\n",
       "    .dataframe tbody tr th:only-of-type {\n",
       "        vertical-align: middle;\n",
       "    }\n",
       "\n",
       "    .dataframe tbody tr th {\n",
       "        vertical-align: top;\n",
       "    }\n",
       "\n",
       "    .dataframe thead th {\n",
       "        text-align: right;\n",
       "    }\n",
       "</style>\n",
       "<table border=\"1\" class=\"dataframe\">\n",
       "  <thead>\n",
       "    <tr style=\"text-align: right;\">\n",
       "      <th></th>\n",
       "      <th>Duration in month</th>\n",
       "      <th>Credit amount</th>\n",
       "      <th>Installment rate in percentage of disposable income</th>\n",
       "      <th>Present residence since</th>\n",
       "      <th>Age</th>\n",
       "      <th>Number of existing credits at this bank</th>\n",
       "      <th>Number of people being liable to provide maintenance for</th>\n",
       "    </tr>\n",
       "  </thead>\n",
       "  <tbody>\n",
       "    <tr>\n",
       "      <th>count</th>\n",
       "      <td>699.000000</td>\n",
       "      <td>699.000000</td>\n",
       "      <td>699.000000</td>\n",
       "      <td>699.000000</td>\n",
       "      <td>699.000000</td>\n",
       "      <td>699.000000</td>\n",
       "      <td>699.000000</td>\n",
       "    </tr>\n",
       "    <tr>\n",
       "      <th>mean</th>\n",
       "      <td>19.183119</td>\n",
       "      <td>2967.042918</td>\n",
       "      <td>2.921316</td>\n",
       "      <td>2.842632</td>\n",
       "      <td>36.214592</td>\n",
       "      <td>1.424893</td>\n",
       "      <td>1.155937</td>\n",
       "    </tr>\n",
       "    <tr>\n",
       "      <th>std</th>\n",
       "      <td>11.069238</td>\n",
       "      <td>2353.217534</td>\n",
       "      <td>1.128348</td>\n",
       "      <td>1.109150</td>\n",
       "      <td>11.386402</td>\n",
       "      <td>0.584919</td>\n",
       "      <td>0.363055</td>\n",
       "    </tr>\n",
       "    <tr>\n",
       "      <th>min</th>\n",
       "      <td>4.000000</td>\n",
       "      <td>250.000000</td>\n",
       "      <td>1.000000</td>\n",
       "      <td>1.000000</td>\n",
       "      <td>19.000000</td>\n",
       "      <td>1.000000</td>\n",
       "      <td>1.000000</td>\n",
       "    </tr>\n",
       "    <tr>\n",
       "      <th>25%</th>\n",
       "      <td>12.000000</td>\n",
       "      <td>1375.000000</td>\n",
       "      <td>2.000000</td>\n",
       "      <td>2.000000</td>\n",
       "      <td>27.000000</td>\n",
       "      <td>1.000000</td>\n",
       "      <td>1.000000</td>\n",
       "    </tr>\n",
       "    <tr>\n",
       "      <th>50%</th>\n",
       "      <td>18.000000</td>\n",
       "      <td>2241.000000</td>\n",
       "      <td>3.000000</td>\n",
       "      <td>3.000000</td>\n",
       "      <td>34.000000</td>\n",
       "      <td>1.000000</td>\n",
       "      <td>1.000000</td>\n",
       "    </tr>\n",
       "    <tr>\n",
       "      <th>75%</th>\n",
       "      <td>24.000000</td>\n",
       "      <td>3627.000000</td>\n",
       "      <td>4.000000</td>\n",
       "      <td>4.000000</td>\n",
       "      <td>42.000000</td>\n",
       "      <td>2.000000</td>\n",
       "      <td>1.000000</td>\n",
       "    </tr>\n",
       "    <tr>\n",
       "      <th>max</th>\n",
       "      <td>60.000000</td>\n",
       "      <td>15653.000000</td>\n",
       "      <td>4.000000</td>\n",
       "      <td>4.000000</td>\n",
       "      <td>75.000000</td>\n",
       "      <td>4.000000</td>\n",
       "      <td>2.000000</td>\n",
       "    </tr>\n",
       "  </tbody>\n",
       "</table>\n",
       "</div>"
      ],
      "text/plain": [
       "       Duration in month  Credit amount  \\\n",
       "count         699.000000     699.000000   \n",
       "mean           19.183119    2967.042918   \n",
       "std            11.069238    2353.217534   \n",
       "min             4.000000     250.000000   \n",
       "25%            12.000000    1375.000000   \n",
       "50%            18.000000    2241.000000   \n",
       "75%            24.000000    3627.000000   \n",
       "max            60.000000   15653.000000   \n",
       "\n",
       "       Installment rate in percentage of disposable income  \\\n",
       "count                                         699.000000     \n",
       "mean                                            2.921316     \n",
       "std                                             1.128348     \n",
       "min                                             1.000000     \n",
       "25%                                             2.000000     \n",
       "50%                                             3.000000     \n",
       "75%                                             4.000000     \n",
       "max                                             4.000000     \n",
       "\n",
       "       Present residence since         Age  \\\n",
       "count               699.000000  699.000000   \n",
       "mean                  2.842632   36.214592   \n",
       "std                   1.109150   11.386402   \n",
       "min                   1.000000   19.000000   \n",
       "25%                   2.000000   27.000000   \n",
       "50%                   3.000000   34.000000   \n",
       "75%                   4.000000   42.000000   \n",
       "max                   4.000000   75.000000   \n",
       "\n",
       "       Number of existing credits at this bank  \\\n",
       "count                               699.000000   \n",
       "mean                                  1.424893   \n",
       "std                                   0.584919   \n",
       "min                                   1.000000   \n",
       "25%                                   1.000000   \n",
       "50%                                   1.000000   \n",
       "75%                                   2.000000   \n",
       "max                                   4.000000   \n",
       "\n",
       "       Number of people being liable to provide maintenance for  \n",
       "count                                         699.000000         \n",
       "mean                                            1.155937         \n",
       "std                                             0.363055         \n",
       "min                                             1.000000         \n",
       "25%                                             1.000000         \n",
       "50%                                             1.000000         \n",
       "75%                                             1.000000         \n",
       "max                                             2.000000         "
      ]
     },
     "execution_count": 31,
     "metadata": {},
     "output_type": "execute_result"
    }
   ],
   "source": [
    "data[data['Credit_Class'] == '1'].describe()"
   ]
  },
  {
   "cell_type": "code",
   "execution_count": 32,
   "metadata": {},
   "outputs": [
    {
     "data": {
      "text/html": [
       "<div>\n",
       "<style scoped>\n",
       "    .dataframe tbody tr th:only-of-type {\n",
       "        vertical-align: middle;\n",
       "    }\n",
       "\n",
       "    .dataframe tbody tr th {\n",
       "        vertical-align: top;\n",
       "    }\n",
       "\n",
       "    .dataframe thead th {\n",
       "        text-align: right;\n",
       "    }\n",
       "</style>\n",
       "<table border=\"1\" class=\"dataframe\">\n",
       "  <thead>\n",
       "    <tr style=\"text-align: right;\">\n",
       "      <th></th>\n",
       "      <th>Duration in month</th>\n",
       "      <th>Credit amount</th>\n",
       "      <th>Installment rate in percentage of disposable income</th>\n",
       "      <th>Present residence since</th>\n",
       "      <th>Age</th>\n",
       "      <th>Number of existing credits at this bank</th>\n",
       "      <th>Number of people being liable to provide maintenance for</th>\n",
       "    </tr>\n",
       "  </thead>\n",
       "  <tbody>\n",
       "    <tr>\n",
       "      <th>count</th>\n",
       "      <td>296.000000</td>\n",
       "      <td>296.000000</td>\n",
       "      <td>296.000000</td>\n",
       "      <td>296.000000</td>\n",
       "      <td>296.000000</td>\n",
       "      <td>296.000000</td>\n",
       "      <td>296.000000</td>\n",
       "    </tr>\n",
       "    <tr>\n",
       "      <th>mean</th>\n",
       "      <td>24.668919</td>\n",
       "      <td>3800.560811</td>\n",
       "      <td>3.111486</td>\n",
       "      <td>2.847973</td>\n",
       "      <td>33.881757</td>\n",
       "      <td>1.361486</td>\n",
       "      <td>1.152027</td>\n",
       "    </tr>\n",
       "    <tr>\n",
       "      <th>std</th>\n",
       "      <td>13.144510</td>\n",
       "      <td>3337.746505</td>\n",
       "      <td>1.085062</td>\n",
       "      <td>1.098780</td>\n",
       "      <td>11.187593</td>\n",
       "      <td>0.559421</td>\n",
       "      <td>0.359655</td>\n",
       "    </tr>\n",
       "    <tr>\n",
       "      <th>min</th>\n",
       "      <td>6.000000</td>\n",
       "      <td>433.000000</td>\n",
       "      <td>1.000000</td>\n",
       "      <td>1.000000</td>\n",
       "      <td>19.000000</td>\n",
       "      <td>1.000000</td>\n",
       "      <td>1.000000</td>\n",
       "    </tr>\n",
       "    <tr>\n",
       "      <th>25%</th>\n",
       "      <td>12.000000</td>\n",
       "      <td>1344.750000</td>\n",
       "      <td>2.000000</td>\n",
       "      <td>2.000000</td>\n",
       "      <td>25.000000</td>\n",
       "      <td>1.000000</td>\n",
       "      <td>1.000000</td>\n",
       "    </tr>\n",
       "    <tr>\n",
       "      <th>50%</th>\n",
       "      <td>24.000000</td>\n",
       "      <td>2529.000000</td>\n",
       "      <td>4.000000</td>\n",
       "      <td>3.000000</td>\n",
       "      <td>31.000000</td>\n",
       "      <td>1.000000</td>\n",
       "      <td>1.000000</td>\n",
       "    </tr>\n",
       "    <tr>\n",
       "      <th>75%</th>\n",
       "      <td>36.000000</td>\n",
       "      <td>4950.500000</td>\n",
       "      <td>4.000000</td>\n",
       "      <td>4.000000</td>\n",
       "      <td>40.000000</td>\n",
       "      <td>2.000000</td>\n",
       "      <td>1.000000</td>\n",
       "    </tr>\n",
       "    <tr>\n",
       "      <th>max</th>\n",
       "      <td>72.000000</td>\n",
       "      <td>15945.000000</td>\n",
       "      <td>4.000000</td>\n",
       "      <td>4.000000</td>\n",
       "      <td>74.000000</td>\n",
       "      <td>4.000000</td>\n",
       "      <td>2.000000</td>\n",
       "    </tr>\n",
       "  </tbody>\n",
       "</table>\n",
       "</div>"
      ],
      "text/plain": [
       "       Duration in month  Credit amount  \\\n",
       "count         296.000000     296.000000   \n",
       "mean           24.668919    3800.560811   \n",
       "std            13.144510    3337.746505   \n",
       "min             6.000000     433.000000   \n",
       "25%            12.000000    1344.750000   \n",
       "50%            24.000000    2529.000000   \n",
       "75%            36.000000    4950.500000   \n",
       "max            72.000000   15945.000000   \n",
       "\n",
       "       Installment rate in percentage of disposable income  \\\n",
       "count                                         296.000000     \n",
       "mean                                            3.111486     \n",
       "std                                             1.085062     \n",
       "min                                             1.000000     \n",
       "25%                                             2.000000     \n",
       "50%                                             4.000000     \n",
       "75%                                             4.000000     \n",
       "max                                             4.000000     \n",
       "\n",
       "       Present residence since         Age  \\\n",
       "count               296.000000  296.000000   \n",
       "mean                  2.847973   33.881757   \n",
       "std                   1.098780   11.187593   \n",
       "min                   1.000000   19.000000   \n",
       "25%                   2.000000   25.000000   \n",
       "50%                   3.000000   31.000000   \n",
       "75%                   4.000000   40.000000   \n",
       "max                   4.000000   74.000000   \n",
       "\n",
       "       Number of existing credits at this bank  \\\n",
       "count                               296.000000   \n",
       "mean                                  1.361486   \n",
       "std                                   0.559421   \n",
       "min                                   1.000000   \n",
       "25%                                   1.000000   \n",
       "50%                                   1.000000   \n",
       "75%                                   2.000000   \n",
       "max                                   4.000000   \n",
       "\n",
       "       Number of people being liable to provide maintenance for  \n",
       "count                                         296.000000         \n",
       "mean                                            1.152027         \n",
       "std                                             0.359655         \n",
       "min                                             1.000000         \n",
       "25%                                             1.000000         \n",
       "50%                                             1.000000         \n",
       "75%                                             1.000000         \n",
       "max                                             2.000000         "
      ]
     },
     "execution_count": 32,
     "metadata": {},
     "output_type": "execute_result"
    }
   ],
   "source": [
    "data[data['Credit_Class'] == '2'].describe()"
   ]
  },
  {
   "cell_type": "code",
   "execution_count": 33,
   "metadata": {},
   "outputs": [
    {
     "data": {
      "image/png": "[encoded data removed]",
      "text/plain": [
       "<Figure size 1080x360 with 1 Axes>"
      ]
     },
     "metadata": {},
     "output_type": "display_data"
    },
    {
     "data": {
      "image/png": "[encoded data removed]",
      "text/plain": [
       "<Figure size 1080x360 with 1 Axes>"
      ]
     },
     "metadata": {},
     "output_type": "display_data"
    },
    {
     "data": {
      "image/png": "[encoded data removed]",
      "text/plain": [
       "<Figure size 1080x360 with 1 Axes>"
      ]
     },
     "metadata": {},
     "output_type": "display_data"
    },
    {
     "data": {
      "image/png": "[encoded data removed]",
      "text/plain": [
       "<Figure size 1080x360 with 1 Axes>"
      ]
     },
     "metadata": {},
     "output_type": "display_data"
    },
    {
     "data": {
      "image/png": "[encoded data removed]",
      "text/plain": [
       "<Figure size 1080x360 with 1 Axes>"
      ]
     },
     "metadata": {},
     "output_type": "display_data"
    },
    {
     "data": {
      "image/png": "[encoded data removed]",
      "text/plain": [
       "<Figure size 1080x360 with 1 Axes>"
      ]
     },
     "metadata": {},
     "output_type": "display_data"
    },
    {
     "data": {
      "image/png": "[encoded data removed]",
      "text/plain": [
       "<Figure size 1080x360 with 1 Axes>"
      ]
     },
     "metadata": {},
     "output_type": "display_data"
    }
   ],
   "source": [
    "for col in numerical_columns:\n",
    "    plt.figure(figsize=(15,5))\n",
    "    sns.boxenplot(x = data[col], y = data['Credit_Class'])\n",
    "    plt.show()"
   ]
  },
  {
   "cell_type": "markdown",
   "metadata": {},
   "source": [
    "A partir dos gráficos mostrado acima e tabela de estatística descritiva, podemos concluir que as variáveis:\n",
    "\n",
    "- Duration in month: Clientes Classe 1 tem uma média de 19.2 e Clientes Classe 2 a média é aproximadamente 24.67.\n",
    "- Credit amount: Clientes Classe 1 uma média próxima de 2967.04 e Classe 2 em torno de 3800.56\n",
    "- Installment rate in percentage of disposable income: Não diferença significativa entre as classes de cliente\n",
    "- Present residence since: Não diferença significativa entre as classes de cliente\n",
    "- Age: Clientes Classe 1 possue uma idade média de 33.88 e Classe 2 aproximadamente 36.21\n",
    "- Number of existing credits at this bank: Não diferença significativa entre as classes de cliente.\n",
    "- Number of people being liable to provide maintence for: Não diferença significativa entre as classes de cliente"
   ]
  },
  {
   "cell_type": "markdown",
   "metadata": {},
   "source": [
    "## 6. Feature Engineering"
   ]
  },
  {
   "cell_type": "markdown",
   "metadata": {},
   "source": [
    "Nesta etapa será realizado o tratamento das variáveis categoricas. Esta etapa é essêncial devido os algoritmos de Machine Learning não reconhecerem o a informação qualitativa presente nestas variáveis. Portanto é necessário realizar a transformação delas em informações númericas\n",
    "\n",
    "Será utilizado dois métodos diferentes para o tratamento destas variáveis. O método com melhor performance nos algoritmos de machine learning será escolhido para realizar os futuras previsões."
   ]
  },
  {
   "cell_type": "markdown",
   "metadata": {},
   "source": [
    "### 6.1 One Hot Enconding"
   ]
  },
  {
   "cell_type": "markdown",
   "metadata": {},
   "source": [
    "Neste primeiro método será utilizado o One Hot Enconding, onde as variaveis categóricas são transformação em diversas colunas que atendem o sistema binário."
   ]
  },
  {
   "cell_type": "code",
   "execution_count": 34,
   "metadata": {},
   "outputs": [],
   "source": [
    "#Obtendo o novo dataset com as novas colunas\n",
    "data_dummies = pd.get_dummies(data, columns = categorical_columns[:-1], drop_first=True )"
   ]
  },
  {
   "cell_type": "code",
   "execution_count": 35,
   "metadata": {},
   "outputs": [
    {
     "data": {
      "text/html": [
       "<div>\n",
       "<style scoped>\n",
       "    .dataframe tbody tr th:only-of-type {\n",
       "        vertical-align: middle;\n",
       "    }\n",
       "\n",
       "    .dataframe tbody tr th {\n",
       "        vertical-align: top;\n",
       "    }\n",
       "\n",
       "    .dataframe thead th {\n",
       "        text-align: right;\n",
       "    }\n",
       "</style>\n",
       "<table border=\"1\" class=\"dataframe\">\n",
       "  <thead>\n",
       "    <tr style=\"text-align: right;\">\n",
       "      <th></th>\n",
       "      <th>Duration in month</th>\n",
       "      <th>Credit amount</th>\n",
       "      <th>Installment rate in percentage of disposable income</th>\n",
       "      <th>Present residence since</th>\n",
       "      <th>Age</th>\n",
       "      <th>Number of existing credits at this bank</th>\n",
       "      <th>Number of people being liable to provide maintenance for</th>\n",
       "      <th>Credit_Class</th>\n",
       "      <th>Status of existing account_A12</th>\n",
       "      <th>Status of existing account_A13</th>\n",
       "      <th>...</th>\n",
       "      <th>Property_A124</th>\n",
       "      <th>Other installment plans_A142</th>\n",
       "      <th>Other installment plans_A143</th>\n",
       "      <th>Housing_A152</th>\n",
       "      <th>Housing_A153</th>\n",
       "      <th>Job_A172</th>\n",
       "      <th>Job_A173</th>\n",
       "      <th>Job_A174</th>\n",
       "      <th>Telephone_A192</th>\n",
       "      <th>foreign worker_A202</th>\n",
       "    </tr>\n",
       "  </thead>\n",
       "  <tbody>\n",
       "    <tr>\n",
       "      <th>0</th>\n",
       "      <td>6.0</td>\n",
       "      <td>1169.0</td>\n",
       "      <td>4.0</td>\n",
       "      <td>4.0</td>\n",
       "      <td>67.0</td>\n",
       "      <td>2.0</td>\n",
       "      <td>1.0</td>\n",
       "      <td>1</td>\n",
       "      <td>0</td>\n",
       "      <td>0</td>\n",
       "      <td>...</td>\n",
       "      <td>0</td>\n",
       "      <td>0</td>\n",
       "      <td>1</td>\n",
       "      <td>1</td>\n",
       "      <td>0</td>\n",
       "      <td>0</td>\n",
       "      <td>1</td>\n",
       "      <td>0</td>\n",
       "      <td>1</td>\n",
       "      <td>0</td>\n",
       "    </tr>\n",
       "    <tr>\n",
       "      <th>1</th>\n",
       "      <td>48.0</td>\n",
       "      <td>5951.0</td>\n",
       "      <td>2.0</td>\n",
       "      <td>2.0</td>\n",
       "      <td>22.0</td>\n",
       "      <td>1.0</td>\n",
       "      <td>1.0</td>\n",
       "      <td>2</td>\n",
       "      <td>1</td>\n",
       "      <td>0</td>\n",
       "      <td>...</td>\n",
       "      <td>0</td>\n",
       "      <td>0</td>\n",
       "      <td>1</td>\n",
       "      <td>1</td>\n",
       "      <td>0</td>\n",
       "      <td>0</td>\n",
       "      <td>1</td>\n",
       "      <td>0</td>\n",
       "      <td>0</td>\n",
       "      <td>0</td>\n",
       "    </tr>\n",
       "    <tr>\n",
       "      <th>2</th>\n",
       "      <td>12.0</td>\n",
       "      <td>2096.0</td>\n",
       "      <td>2.0</td>\n",
       "      <td>3.0</td>\n",
       "      <td>49.0</td>\n",
       "      <td>1.0</td>\n",
       "      <td>2.0</td>\n",
       "      <td>1</td>\n",
       "      <td>0</td>\n",
       "      <td>0</td>\n",
       "      <td>...</td>\n",
       "      <td>0</td>\n",
       "      <td>0</td>\n",
       "      <td>1</td>\n",
       "      <td>1</td>\n",
       "      <td>0</td>\n",
       "      <td>1</td>\n",
       "      <td>0</td>\n",
       "      <td>0</td>\n",
       "      <td>0</td>\n",
       "      <td>0</td>\n",
       "    </tr>\n",
       "    <tr>\n",
       "      <th>3</th>\n",
       "      <td>42.0</td>\n",
       "      <td>7882.0</td>\n",
       "      <td>2.0</td>\n",
       "      <td>4.0</td>\n",
       "      <td>45.0</td>\n",
       "      <td>1.0</td>\n",
       "      <td>2.0</td>\n",
       "      <td>1</td>\n",
       "      <td>0</td>\n",
       "      <td>0</td>\n",
       "      <td>...</td>\n",
       "      <td>0</td>\n",
       "      <td>0</td>\n",
       "      <td>1</td>\n",
       "      <td>0</td>\n",
       "      <td>1</td>\n",
       "      <td>0</td>\n",
       "      <td>1</td>\n",
       "      <td>0</td>\n",
       "      <td>0</td>\n",
       "      <td>0</td>\n",
       "    </tr>\n",
       "    <tr>\n",
       "      <th>4</th>\n",
       "      <td>24.0</td>\n",
       "      <td>4870.0</td>\n",
       "      <td>3.0</td>\n",
       "      <td>4.0</td>\n",
       "      <td>53.0</td>\n",
       "      <td>2.0</td>\n",
       "      <td>2.0</td>\n",
       "      <td>2</td>\n",
       "      <td>0</td>\n",
       "      <td>0</td>\n",
       "      <td>...</td>\n",
       "      <td>1</td>\n",
       "      <td>0</td>\n",
       "      <td>1</td>\n",
       "      <td>0</td>\n",
       "      <td>1</td>\n",
       "      <td>0</td>\n",
       "      <td>1</td>\n",
       "      <td>0</td>\n",
       "      <td>0</td>\n",
       "      <td>0</td>\n",
       "    </tr>\n",
       "    <tr>\n",
       "      <th>...</th>\n",
       "      <td>...</td>\n",
       "      <td>...</td>\n",
       "      <td>...</td>\n",
       "      <td>...</td>\n",
       "      <td>...</td>\n",
       "      <td>...</td>\n",
       "      <td>...</td>\n",
       "      <td>...</td>\n",
       "      <td>...</td>\n",
       "      <td>...</td>\n",
       "      <td>...</td>\n",
       "      <td>...</td>\n",
       "      <td>...</td>\n",
       "      <td>...</td>\n",
       "      <td>...</td>\n",
       "      <td>...</td>\n",
       "      <td>...</td>\n",
       "      <td>...</td>\n",
       "      <td>...</td>\n",
       "      <td>...</td>\n",
       "      <td>...</td>\n",
       "    </tr>\n",
       "    <tr>\n",
       "      <th>995</th>\n",
       "      <td>12.0</td>\n",
       "      <td>1736.0</td>\n",
       "      <td>3.0</td>\n",
       "      <td>4.0</td>\n",
       "      <td>31.0</td>\n",
       "      <td>1.0</td>\n",
       "      <td>1.0</td>\n",
       "      <td>1</td>\n",
       "      <td>0</td>\n",
       "      <td>0</td>\n",
       "      <td>...</td>\n",
       "      <td>0</td>\n",
       "      <td>0</td>\n",
       "      <td>1</td>\n",
       "      <td>1</td>\n",
       "      <td>0</td>\n",
       "      <td>1</td>\n",
       "      <td>0</td>\n",
       "      <td>0</td>\n",
       "      <td>0</td>\n",
       "      <td>0</td>\n",
       "    </tr>\n",
       "    <tr>\n",
       "      <th>996</th>\n",
       "      <td>30.0</td>\n",
       "      <td>3857.0</td>\n",
       "      <td>4.0</td>\n",
       "      <td>4.0</td>\n",
       "      <td>40.0</td>\n",
       "      <td>1.0</td>\n",
       "      <td>1.0</td>\n",
       "      <td>1</td>\n",
       "      <td>0</td>\n",
       "      <td>0</td>\n",
       "      <td>...</td>\n",
       "      <td>0</td>\n",
       "      <td>0</td>\n",
       "      <td>1</td>\n",
       "      <td>1</td>\n",
       "      <td>0</td>\n",
       "      <td>0</td>\n",
       "      <td>0</td>\n",
       "      <td>1</td>\n",
       "      <td>1</td>\n",
       "      <td>0</td>\n",
       "    </tr>\n",
       "    <tr>\n",
       "      <th>997</th>\n",
       "      <td>12.0</td>\n",
       "      <td>804.0</td>\n",
       "      <td>4.0</td>\n",
       "      <td>4.0</td>\n",
       "      <td>38.0</td>\n",
       "      <td>1.0</td>\n",
       "      <td>1.0</td>\n",
       "      <td>1</td>\n",
       "      <td>0</td>\n",
       "      <td>0</td>\n",
       "      <td>...</td>\n",
       "      <td>0</td>\n",
       "      <td>0</td>\n",
       "      <td>1</td>\n",
       "      <td>1</td>\n",
       "      <td>0</td>\n",
       "      <td>0</td>\n",
       "      <td>1</td>\n",
       "      <td>0</td>\n",
       "      <td>0</td>\n",
       "      <td>0</td>\n",
       "    </tr>\n",
       "    <tr>\n",
       "      <th>998</th>\n",
       "      <td>45.0</td>\n",
       "      <td>1845.0</td>\n",
       "      <td>4.0</td>\n",
       "      <td>4.0</td>\n",
       "      <td>23.0</td>\n",
       "      <td>1.0</td>\n",
       "      <td>1.0</td>\n",
       "      <td>2</td>\n",
       "      <td>0</td>\n",
       "      <td>0</td>\n",
       "      <td>...</td>\n",
       "      <td>1</td>\n",
       "      <td>0</td>\n",
       "      <td>1</td>\n",
       "      <td>0</td>\n",
       "      <td>1</td>\n",
       "      <td>0</td>\n",
       "      <td>1</td>\n",
       "      <td>0</td>\n",
       "      <td>1</td>\n",
       "      <td>0</td>\n",
       "    </tr>\n",
       "    <tr>\n",
       "      <th>999</th>\n",
       "      <td>45.0</td>\n",
       "      <td>4576.0</td>\n",
       "      <td>3.0</td>\n",
       "      <td>4.0</td>\n",
       "      <td>27.0</td>\n",
       "      <td>1.0</td>\n",
       "      <td>1.0</td>\n",
       "      <td>1</td>\n",
       "      <td>1</td>\n",
       "      <td>0</td>\n",
       "      <td>...</td>\n",
       "      <td>0</td>\n",
       "      <td>0</td>\n",
       "      <td>1</td>\n",
       "      <td>1</td>\n",
       "      <td>0</td>\n",
       "      <td>0</td>\n",
       "      <td>1</td>\n",
       "      <td>0</td>\n",
       "      <td>0</td>\n",
       "      <td>0</td>\n",
       "    </tr>\n",
       "  </tbody>\n",
       "</table>\n",
       "<p>995 rows × 49 columns</p>\n",
       "</div>"
      ],
      "text/plain": [
       "     Duration in month  Credit amount  \\\n",
       "0                  6.0         1169.0   \n",
       "1                 48.0         5951.0   \n",
       "2                 12.0         2096.0   \n",
       "3                 42.0         7882.0   \n",
       "4                 24.0         4870.0   \n",
       "..                 ...            ...   \n",
       "995               12.0         1736.0   \n",
       "996               30.0         3857.0   \n",
       "997               12.0          804.0   \n",
       "998               45.0         1845.0   \n",
       "999               45.0         4576.0   \n",
       "\n",
       "     Installment rate in percentage of disposable income  \\\n",
       "0                                                  4.0     \n",
       "1                                                  2.0     \n",
       "2                                                  2.0     \n",
       "3                                                  2.0     \n",
       "4                                                  3.0     \n",
       "..                                                 ...     \n",
       "995                                                3.0     \n",
       "996                                                4.0     \n",
       "997                                                4.0     \n",
       "998                                                4.0     \n",
       "999                                                3.0     \n",
       "\n",
       "     Present residence since   Age  Number of existing credits at this bank  \\\n",
       "0                        4.0  67.0                                      2.0   \n",
       "1                        2.0  22.0                                      1.0   \n",
       "2                        3.0  49.0                                      1.0   \n",
       "3                        4.0  45.0                                      1.0   \n",
       "4                        4.0  53.0                                      2.0   \n",
       "..                       ...   ...                                      ...   \n",
       "995                      4.0  31.0                                      1.0   \n",
       "996                      4.0  40.0                                      1.0   \n",
       "997                      4.0  38.0                                      1.0   \n",
       "998                      4.0  23.0                                      1.0   \n",
       "999                      4.0  27.0                                      1.0   \n",
       "\n",
       "     Number of people being liable to provide maintenance for Credit_Class  \\\n",
       "0                                                  1.0                   1   \n",
       "1                                                  1.0                   2   \n",
       "2                                                  2.0                   1   \n",
       "3                                                  2.0                   1   \n",
       "4                                                  2.0                   2   \n",
       "..                                                 ...                 ...   \n",
       "995                                                1.0                   1   \n",
       "996                                                1.0                   1   \n",
       "997                                                1.0                   1   \n",
       "998                                                1.0                   2   \n",
       "999                                                1.0                   1   \n",
       "\n",
       "     Status of existing account_A12  Status of existing account_A13  ...  \\\n",
       "0                                 0                               0  ...   \n",
       "1                                 1                               0  ...   \n",
       "2                                 0                               0  ...   \n",
       "3                                 0                               0  ...   \n",
       "4                                 0                               0  ...   \n",
       "..                              ...                             ...  ...   \n",
       "995                               0                               0  ...   \n",
       "996                               0                               0  ...   \n",
       "997                               0                               0  ...   \n",
       "998                               0                               0  ...   \n",
       "999                               1                               0  ...   \n",
       "\n",
       "     Property_A124  Other installment plans_A142  \\\n",
       "0                0                             0   \n",
       "1                0                             0   \n",
       "2                0                             0   \n",
       "3                0                             0   \n",
       "4                1                             0   \n",
       "..             ...                           ...   \n",
       "995              0                             0   \n",
       "996              0                             0   \n",
       "997              0                             0   \n",
       "998              1                             0   \n",
       "999              0                             0   \n",
       "\n",
       "     Other installment plans_A143  Housing_A152  Housing_A153  Job_A172  \\\n",
       "0                               1             1             0         0   \n",
       "1                               1             1             0         0   \n",
       "2                               1             1             0         1   \n",
       "3                               1             0             1         0   \n",
       "4                               1             0             1         0   \n",
       "..                            ...           ...           ...       ...   \n",
       "995                             1             1             0         1   \n",
       "996                             1             1             0         0   \n",
       "997                             1             1             0         0   \n",
       "998                             1             0             1         0   \n",
       "999                             1             1             0         0   \n",
       "\n",
       "     Job_A173  Job_A174  Telephone_A192  foreign worker_A202  \n",
       "0           1         0               1                    0  \n",
       "1           1         0               0                    0  \n",
       "2           0         0               0                    0  \n",
       "3           1         0               0                    0  \n",
       "4           1         0               0                    0  \n",
       "..        ...       ...             ...                  ...  \n",
       "995         0         0               0                    0  \n",
       "996         0         1               1                    0  \n",
       "997         1         0               0                    0  \n",
       "998         1         0               1                    0  \n",
       "999         1         0               0                    0  \n",
       "\n",
       "[995 rows x 49 columns]"
      ]
     },
     "execution_count": 35,
     "metadata": {},
     "output_type": "execute_result"
    }
   ],
   "source": [
    "data_dummies"
   ]
  },
  {
   "cell_type": "code",
   "execution_count": 36,
   "metadata": {},
   "outputs": [],
   "source": [
    "#Convertando os dados para formato inteiro\n",
    "data['Credit_Class'] = data['Credit_Class'].astype('int64')"
   ]
  },
  {
   "cell_type": "code",
   "execution_count": 37,
   "metadata": {},
   "outputs": [],
   "source": [
    "#Separando as variáveis em colunas X e Y\n",
    "x = data_dummies.drop('Credit_Class', axis = 1)\n",
    "y = data_dummies['Credit_Class']"
   ]
  },
  {
   "cell_type": "code",
   "execution_count": 38,
   "metadata": {},
   "outputs": [],
   "source": [
    "#Iniciando o modelo de RandomForest para a análise de performance\n",
    "model = RandomForestClassifier()"
   ]
  },
  {
   "cell_type": "code",
   "execution_count": 39,
   "metadata": {},
   "outputs": [],
   "source": [
    "#Analisando a performance pelo método da validação cruzada\n",
    "ohe_score = cross_val_score(model,x,y,cv = 10, scoring = 'roc_auc')"
   ]
  },
  {
   "cell_type": "code",
   "execution_count": 41,
   "metadata": {},
   "outputs": [
    {
     "data": {
      "text/plain": [
       "0.783435556031508"
      ]
     },
     "execution_count": 41,
     "metadata": {},
     "output_type": "execute_result"
    }
   ],
   "source": [
    "#Valor da métrica ROC AUC para o método\n",
    "ohe_score.mean()"
   ]
  },
  {
   "cell_type": "markdown",
   "metadata": {},
   "source": [
    "### 6.2 Target Encoding"
   ]
  },
  {
   "cell_type": "markdown",
   "metadata": {},
   "source": [
    "Também conhecido Mean Encoding, neste método o encoding é feito por meio da análise da relação destas variaveis com a variavel alvo. Nele não há o acréscimo de colunas como no OHE."
   ]
  },
  {
   "cell_type": "code",
   "execution_count": 40,
   "metadata": {},
   "outputs": [],
   "source": [
    "#Redefinindo as variáveis x e y\n",
    "x = data.drop('Credit_Class', axis = 1)\n",
    "y = data['Credit_Class']"
   ]
  },
  {
   "cell_type": "code",
   "execution_count": 41,
   "metadata": {},
   "outputs": [],
   "source": [
    "#Iniciando o encoder\n",
    "cat_enc = TargetEncoder(cols = categorical_columns[:-1]).fit(x,y)"
   ]
  },
  {
   "cell_type": "code",
   "execution_count": 42,
   "metadata": {},
   "outputs": [],
   "source": [
    "#Transformando as informações categoricas\n",
    "x = cat_enc.transform(x)"
   ]
  },
  {
   "cell_type": "code",
   "execution_count": 43,
   "metadata": {},
   "outputs": [
    {
     "data": {
      "text/html": [
       "<div>\n",
       "<style scoped>\n",
       "    .dataframe tbody tr th:only-of-type {\n",
       "        vertical-align: middle;\n",
       "    }\n",
       "\n",
       "    .dataframe tbody tr th {\n",
       "        vertical-align: top;\n",
       "    }\n",
       "\n",
       "    .dataframe thead th {\n",
       "        text-align: right;\n",
       "    }\n",
       "</style>\n",
       "<table border=\"1\" class=\"dataframe\">\n",
       "  <thead>\n",
       "    <tr style=\"text-align: right;\">\n",
       "      <th></th>\n",
       "      <th>Status of existing account</th>\n",
       "      <th>Duration in month</th>\n",
       "      <th>Credit History</th>\n",
       "      <th>Purpose</th>\n",
       "      <th>Credit amount</th>\n",
       "      <th>Savings account/bonds</th>\n",
       "      <th>Present employment since</th>\n",
       "      <th>Installment rate in percentage of disposable income</th>\n",
       "      <th>Personal status and sex</th>\n",
       "      <th>Other debtors / guarantors</th>\n",
       "      <th>Present residence since</th>\n",
       "      <th>Property</th>\n",
       "      <th>Age</th>\n",
       "      <th>Other installment plans</th>\n",
       "      <th>Housing</th>\n",
       "      <th>Number of existing credits at this bank</th>\n",
       "      <th>Job</th>\n",
       "      <th>Number of people being liable to provide maintenance for</th>\n",
       "      <th>Telephone</th>\n",
       "      <th>foreign worker</th>\n",
       "    </tr>\n",
       "  </thead>\n",
       "  <tbody>\n",
       "    <tr>\n",
       "      <th>0</th>\n",
       "      <td>1.494505</td>\n",
       "      <td>6.0</td>\n",
       "      <td>1.167808</td>\n",
       "      <td>1.221429</td>\n",
       "      <td>1169.0</td>\n",
       "      <td>1.174863</td>\n",
       "      <td>1.250000</td>\n",
       "      <td>4.0</td>\n",
       "      <td>1.263736</td>\n",
       "      <td>1.298343</td>\n",
       "      <td>4.0</td>\n",
       "      <td>1.212766</td>\n",
       "      <td>67.0</td>\n",
       "      <td>1.274631</td>\n",
       "      <td>1.258110</td>\n",
       "      <td>2.0</td>\n",
       "      <td>1.295238</td>\n",
       "      <td>1.0</td>\n",
       "      <td>1.272500</td>\n",
       "      <td>1.305527</td>\n",
       "    </tr>\n",
       "    <tr>\n",
       "      <th>1</th>\n",
       "      <td>1.381132</td>\n",
       "      <td>48.0</td>\n",
       "      <td>1.318182</td>\n",
       "      <td>1.221429</td>\n",
       "      <td>5951.0</td>\n",
       "      <td>1.357262</td>\n",
       "      <td>1.300595</td>\n",
       "      <td>2.0</td>\n",
       "      <td>1.347403</td>\n",
       "      <td>1.298343</td>\n",
       "      <td>2.0</td>\n",
       "      <td>1.212766</td>\n",
       "      <td>22.0</td>\n",
       "      <td>1.274631</td>\n",
       "      <td>1.258110</td>\n",
       "      <td>1.0</td>\n",
       "      <td>1.295238</td>\n",
       "      <td>1.0</td>\n",
       "      <td>1.314286</td>\n",
       "      <td>1.305527</td>\n",
       "    </tr>\n",
       "    <tr>\n",
       "      <th>2</th>\n",
       "      <td>1.116751</td>\n",
       "      <td>12.0</td>\n",
       "      <td>1.167808</td>\n",
       "      <td>1.440000</td>\n",
       "      <td>2096.0</td>\n",
       "      <td>1.357262</td>\n",
       "      <td>1.224138</td>\n",
       "      <td>2.0</td>\n",
       "      <td>1.263736</td>\n",
       "      <td>1.298343</td>\n",
       "      <td>3.0</td>\n",
       "      <td>1.212766</td>\n",
       "      <td>49.0</td>\n",
       "      <td>1.274631</td>\n",
       "      <td>1.258110</td>\n",
       "      <td>1.0</td>\n",
       "      <td>1.280000</td>\n",
       "      <td>2.0</td>\n",
       "      <td>1.314286</td>\n",
       "      <td>1.305527</td>\n",
       "    </tr>\n",
       "    <tr>\n",
       "      <th>3</th>\n",
       "      <td>1.494505</td>\n",
       "      <td>42.0</td>\n",
       "      <td>1.318182</td>\n",
       "      <td>1.320442</td>\n",
       "      <td>7882.0</td>\n",
       "      <td>1.357262</td>\n",
       "      <td>1.224138</td>\n",
       "      <td>2.0</td>\n",
       "      <td>1.263736</td>\n",
       "      <td>1.192308</td>\n",
       "      <td>4.0</td>\n",
       "      <td>1.303030</td>\n",
       "      <td>45.0</td>\n",
       "      <td>1.274631</td>\n",
       "      <td>1.401869</td>\n",
       "      <td>1.0</td>\n",
       "      <td>1.295238</td>\n",
       "      <td>2.0</td>\n",
       "      <td>1.314286</td>\n",
       "      <td>1.305527</td>\n",
       "    </tr>\n",
       "    <tr>\n",
       "      <th>4</th>\n",
       "      <td>1.494505</td>\n",
       "      <td>24.0</td>\n",
       "      <td>1.318182</td>\n",
       "      <td>1.380342</td>\n",
       "      <td>4870.0</td>\n",
       "      <td>1.357262</td>\n",
       "      <td>1.300595</td>\n",
       "      <td>3.0</td>\n",
       "      <td>1.263736</td>\n",
       "      <td>1.298343</td>\n",
       "      <td>4.0</td>\n",
       "      <td>1.431373</td>\n",
       "      <td>53.0</td>\n",
       "      <td>1.274631</td>\n",
       "      <td>1.401869</td>\n",
       "      <td>2.0</td>\n",
       "      <td>1.295238</td>\n",
       "      <td>2.0</td>\n",
       "      <td>1.314286</td>\n",
       "      <td>1.305527</td>\n",
       "    </tr>\n",
       "    <tr>\n",
       "      <th>...</th>\n",
       "      <td>...</td>\n",
       "      <td>...</td>\n",
       "      <td>...</td>\n",
       "      <td>...</td>\n",
       "      <td>...</td>\n",
       "      <td>...</td>\n",
       "      <td>...</td>\n",
       "      <td>...</td>\n",
       "      <td>...</td>\n",
       "      <td>...</td>\n",
       "      <td>...</td>\n",
       "      <td>...</td>\n",
       "      <td>...</td>\n",
       "      <td>...</td>\n",
       "      <td>...</td>\n",
       "      <td>...</td>\n",
       "      <td>...</td>\n",
       "      <td>...</td>\n",
       "      <td>...</td>\n",
       "      <td>...</td>\n",
       "    </tr>\n",
       "    <tr>\n",
       "      <th>995</th>\n",
       "      <td>1.116751</td>\n",
       "      <td>12.0</td>\n",
       "      <td>1.318182</td>\n",
       "      <td>1.320442</td>\n",
       "      <td>1736.0</td>\n",
       "      <td>1.357262</td>\n",
       "      <td>1.224138</td>\n",
       "      <td>3.0</td>\n",
       "      <td>1.347403</td>\n",
       "      <td>1.298343</td>\n",
       "      <td>4.0</td>\n",
       "      <td>1.212766</td>\n",
       "      <td>31.0</td>\n",
       "      <td>1.274631</td>\n",
       "      <td>1.258110</td>\n",
       "      <td>1.0</td>\n",
       "      <td>1.280000</td>\n",
       "      <td>1.0</td>\n",
       "      <td>1.314286</td>\n",
       "      <td>1.305527</td>\n",
       "    </tr>\n",
       "    <tr>\n",
       "      <th>996</th>\n",
       "      <td>1.494505</td>\n",
       "      <td>30.0</td>\n",
       "      <td>1.318182</td>\n",
       "      <td>1.165049</td>\n",
       "      <td>3857.0</td>\n",
       "      <td>1.357262</td>\n",
       "      <td>1.300595</td>\n",
       "      <td>4.0</td>\n",
       "      <td>1.408163</td>\n",
       "      <td>1.298343</td>\n",
       "      <td>4.0</td>\n",
       "      <td>1.303030</td>\n",
       "      <td>40.0</td>\n",
       "      <td>1.274631</td>\n",
       "      <td>1.258110</td>\n",
       "      <td>1.0</td>\n",
       "      <td>1.328671</td>\n",
       "      <td>1.0</td>\n",
       "      <td>1.272500</td>\n",
       "      <td>1.305527</td>\n",
       "    </tr>\n",
       "    <tr>\n",
       "      <th>997</th>\n",
       "      <td>1.116751</td>\n",
       "      <td>12.0</td>\n",
       "      <td>1.318182</td>\n",
       "      <td>1.221429</td>\n",
       "      <td>804.0</td>\n",
       "      <td>1.357262</td>\n",
       "      <td>1.250000</td>\n",
       "      <td>4.0</td>\n",
       "      <td>1.263736</td>\n",
       "      <td>1.298343</td>\n",
       "      <td>4.0</td>\n",
       "      <td>1.303951</td>\n",
       "      <td>38.0</td>\n",
       "      <td>1.274631</td>\n",
       "      <td>1.258110</td>\n",
       "      <td>1.0</td>\n",
       "      <td>1.295238</td>\n",
       "      <td>1.0</td>\n",
       "      <td>1.314286</td>\n",
       "      <td>1.305527</td>\n",
       "    </tr>\n",
       "    <tr>\n",
       "      <th>998</th>\n",
       "      <td>1.494505</td>\n",
       "      <td>45.0</td>\n",
       "      <td>1.318182</td>\n",
       "      <td>1.221429</td>\n",
       "      <td>1845.0</td>\n",
       "      <td>1.357262</td>\n",
       "      <td>1.300595</td>\n",
       "      <td>4.0</td>\n",
       "      <td>1.263736</td>\n",
       "      <td>1.298343</td>\n",
       "      <td>4.0</td>\n",
       "      <td>1.431373</td>\n",
       "      <td>23.0</td>\n",
       "      <td>1.274631</td>\n",
       "      <td>1.401869</td>\n",
       "      <td>1.0</td>\n",
       "      <td>1.295238</td>\n",
       "      <td>1.0</td>\n",
       "      <td>1.272500</td>\n",
       "      <td>1.305527</td>\n",
       "    </tr>\n",
       "    <tr>\n",
       "      <th>999</th>\n",
       "      <td>1.381132</td>\n",
       "      <td>45.0</td>\n",
       "      <td>1.167808</td>\n",
       "      <td>1.165049</td>\n",
       "      <td>4576.0</td>\n",
       "      <td>1.323529</td>\n",
       "      <td>1.377049</td>\n",
       "      <td>3.0</td>\n",
       "      <td>1.263736</td>\n",
       "      <td>1.298343</td>\n",
       "      <td>4.0</td>\n",
       "      <td>1.303951</td>\n",
       "      <td>27.0</td>\n",
       "      <td>1.274631</td>\n",
       "      <td>1.258110</td>\n",
       "      <td>1.0</td>\n",
       "      <td>1.295238</td>\n",
       "      <td>1.0</td>\n",
       "      <td>1.314286</td>\n",
       "      <td>1.305527</td>\n",
       "    </tr>\n",
       "  </tbody>\n",
       "</table>\n",
       "<p>995 rows × 20 columns</p>\n",
       "</div>"
      ],
      "text/plain": [
       "     Status of existing account  Duration in month  Credit History   Purpose  \\\n",
       "0                      1.494505                6.0        1.167808  1.221429   \n",
       "1                      1.381132               48.0        1.318182  1.221429   \n",
       "2                      1.116751               12.0        1.167808  1.440000   \n",
       "3                      1.494505               42.0        1.318182  1.320442   \n",
       "4                      1.494505               24.0        1.318182  1.380342   \n",
       "..                          ...                ...             ...       ...   \n",
       "995                    1.116751               12.0        1.318182  1.320442   \n",
       "996                    1.494505               30.0        1.318182  1.165049   \n",
       "997                    1.116751               12.0        1.318182  1.221429   \n",
       "998                    1.494505               45.0        1.318182  1.221429   \n",
       "999                    1.381132               45.0        1.167808  1.165049   \n",
       "\n",
       "     Credit amount  Savings account/bonds  Present employment since  \\\n",
       "0           1169.0               1.174863                  1.250000   \n",
       "1           5951.0               1.357262                  1.300595   \n",
       "2           2096.0               1.357262                  1.224138   \n",
       "3           7882.0               1.357262                  1.224138   \n",
       "4           4870.0               1.357262                  1.300595   \n",
       "..             ...                    ...                       ...   \n",
       "995         1736.0               1.357262                  1.224138   \n",
       "996         3857.0               1.357262                  1.300595   \n",
       "997          804.0               1.357262                  1.250000   \n",
       "998         1845.0               1.357262                  1.300595   \n",
       "999         4576.0               1.323529                  1.377049   \n",
       "\n",
       "     Installment rate in percentage of disposable income  \\\n",
       "0                                                  4.0     \n",
       "1                                                  2.0     \n",
       "2                                                  2.0     \n",
       "3                                                  2.0     \n",
       "4                                                  3.0     \n",
       "..                                                 ...     \n",
       "995                                                3.0     \n",
       "996                                                4.0     \n",
       "997                                                4.0     \n",
       "998                                                4.0     \n",
       "999                                                3.0     \n",
       "\n",
       "     Personal status and sex  Other debtors / guarantors  \\\n",
       "0                   1.263736                    1.298343   \n",
       "1                   1.347403                    1.298343   \n",
       "2                   1.263736                    1.298343   \n",
       "3                   1.263736                    1.192308   \n",
       "4                   1.263736                    1.298343   \n",
       "..                       ...                         ...   \n",
       "995                 1.347403                    1.298343   \n",
       "996                 1.408163                    1.298343   \n",
       "997                 1.263736                    1.298343   \n",
       "998                 1.263736                    1.298343   \n",
       "999                 1.263736                    1.298343   \n",
       "\n",
       "     Present residence since  Property   Age  Other installment plans  \\\n",
       "0                        4.0  1.212766  67.0                 1.274631   \n",
       "1                        2.0  1.212766  22.0                 1.274631   \n",
       "2                        3.0  1.212766  49.0                 1.274631   \n",
       "3                        4.0  1.303030  45.0                 1.274631   \n",
       "4                        4.0  1.431373  53.0                 1.274631   \n",
       "..                       ...       ...   ...                      ...   \n",
       "995                      4.0  1.212766  31.0                 1.274631   \n",
       "996                      4.0  1.303030  40.0                 1.274631   \n",
       "997                      4.0  1.303951  38.0                 1.274631   \n",
       "998                      4.0  1.431373  23.0                 1.274631   \n",
       "999                      4.0  1.303951  27.0                 1.274631   \n",
       "\n",
       "      Housing  Number of existing credits at this bank       Job  \\\n",
       "0    1.258110                                      2.0  1.295238   \n",
       "1    1.258110                                      1.0  1.295238   \n",
       "2    1.258110                                      1.0  1.280000   \n",
       "3    1.401869                                      1.0  1.295238   \n",
       "4    1.401869                                      2.0  1.295238   \n",
       "..        ...                                      ...       ...   \n",
       "995  1.258110                                      1.0  1.280000   \n",
       "996  1.258110                                      1.0  1.328671   \n",
       "997  1.258110                                      1.0  1.295238   \n",
       "998  1.401869                                      1.0  1.295238   \n",
       "999  1.258110                                      1.0  1.295238   \n",
       "\n",
       "     Number of people being liable to provide maintenance for  Telephone  \\\n",
       "0                                                  1.0          1.272500   \n",
       "1                                                  1.0          1.314286   \n",
       "2                                                  2.0          1.314286   \n",
       "3                                                  2.0          1.314286   \n",
       "4                                                  2.0          1.314286   \n",
       "..                                                 ...               ...   \n",
       "995                                                1.0          1.314286   \n",
       "996                                                1.0          1.272500   \n",
       "997                                                1.0          1.314286   \n",
       "998                                                1.0          1.272500   \n",
       "999                                                1.0          1.314286   \n",
       "\n",
       "     foreign worker  \n",
       "0          1.305527  \n",
       "1          1.305527  \n",
       "2          1.305527  \n",
       "3          1.305527  \n",
       "4          1.305527  \n",
       "..              ...  \n",
       "995        1.305527  \n",
       "996        1.305527  \n",
       "997        1.305527  \n",
       "998        1.305527  \n",
       "999        1.305527  \n",
       "\n",
       "[995 rows x 20 columns]"
      ]
     },
     "execution_count": 43,
     "metadata": {},
     "output_type": "execute_result"
    }
   ],
   "source": [
    "x"
   ]
  },
  {
   "cell_type": "code",
   "execution_count": 47,
   "metadata": {},
   "outputs": [],
   "source": [
    "#Definindo o modelo para análise de performance\n",
    "model = RandomForestClassifier()"
   ]
  },
  {
   "cell_type": "code",
   "execution_count": 48,
   "metadata": {},
   "outputs": [],
   "source": [
    "#Analisando a performance pelo método da validação cruzada\n",
    "te_score= cross_val_score(model,x,y,cv = 10, scoring = 'roc_auc')"
   ]
  },
  {
   "cell_type": "code",
   "execution_count": 49,
   "metadata": {},
   "outputs": [
    {
     "data": {
      "text/plain": [
       "0.8001395016777325"
      ]
     },
     "execution_count": 49,
     "metadata": {},
     "output_type": "execute_result"
    }
   ],
   "source": [
    "#Valor da métrica ROC AUC para o método\n",
    "te_score.mean()"
   ]
  },
  {
   "cell_type": "markdown",
   "metadata": {},
   "source": [
    "O método de One Hot Encoding teve a métrica ROC AUC = 0.783\n",
    "\n",
    "O método Target Encoding teve a métrica ROC AUC = 0.80\n",
    "\n",
    "Pelos resultados obtidos, é possível concluir que o método mais eficaz para a transformação dos dados categóricos é o Target Encoding devido seu maior desempenho na métrica escolhida."
   ]
  },
  {
   "cell_type": "markdown",
   "metadata": {},
   "source": [
    "## 7. Presets"
   ]
  },
  {
   "cell_type": "markdown",
   "metadata": {},
   "source": [
    "Nesta etapa será configura alguns parametros e funções para auxiliar a utilização e análise dos modelos de Machine Learning por meio da sua performance"
   ]
  },
  {
   "cell_type": "code",
   "execution_count": 53,
   "metadata": {},
   "outputs": [
    {
     "data": {
      "text/html": [
       "<div>\n",
       "<style scoped>\n",
       "    .dataframe tbody tr th:only-of-type {\n",
       "        vertical-align: middle;\n",
       "    }\n",
       "\n",
       "    .dataframe tbody tr th {\n",
       "        vertical-align: top;\n",
       "    }\n",
       "\n",
       "    .dataframe thead th {\n",
       "        text-align: right;\n",
       "    }\n",
       "</style>\n",
       "<table border=\"1\" class=\"dataframe\">\n",
       "  <thead>\n",
       "    <tr style=\"text-align: right;\">\n",
       "      <th></th>\n",
       "      <th>Status of existing account</th>\n",
       "      <th>Duration in month</th>\n",
       "      <th>Credit History</th>\n",
       "      <th>Purpose</th>\n",
       "      <th>Credit amount</th>\n",
       "      <th>Savings account/bonds</th>\n",
       "      <th>Present employment since</th>\n",
       "      <th>Installment rate in percentage of disposable income</th>\n",
       "      <th>Personal status and sex</th>\n",
       "      <th>Other debtors / guarantors</th>\n",
       "      <th>Present residence since</th>\n",
       "      <th>Property</th>\n",
       "      <th>Age</th>\n",
       "      <th>Other installment plans</th>\n",
       "      <th>Housing</th>\n",
       "      <th>Number of existing credits at this bank</th>\n",
       "      <th>Job</th>\n",
       "      <th>Number of people being liable to provide maintenance for</th>\n",
       "      <th>Telephone</th>\n",
       "      <th>foreign worker</th>\n",
       "    </tr>\n",
       "  </thead>\n",
       "  <tbody>\n",
       "    <tr>\n",
       "      <th>0</th>\n",
       "      <td>1.494505</td>\n",
       "      <td>6.0</td>\n",
       "      <td>1.167808</td>\n",
       "      <td>1.221429</td>\n",
       "      <td>1169.0</td>\n",
       "      <td>1.174863</td>\n",
       "      <td>1.250000</td>\n",
       "      <td>4.0</td>\n",
       "      <td>1.263736</td>\n",
       "      <td>1.298343</td>\n",
       "      <td>4.0</td>\n",
       "      <td>1.212766</td>\n",
       "      <td>67.0</td>\n",
       "      <td>1.274631</td>\n",
       "      <td>1.258110</td>\n",
       "      <td>2.0</td>\n",
       "      <td>1.295238</td>\n",
       "      <td>1.0</td>\n",
       "      <td>1.272500</td>\n",
       "      <td>1.305527</td>\n",
       "    </tr>\n",
       "    <tr>\n",
       "      <th>1</th>\n",
       "      <td>1.381132</td>\n",
       "      <td>48.0</td>\n",
       "      <td>1.318182</td>\n",
       "      <td>1.221429</td>\n",
       "      <td>5951.0</td>\n",
       "      <td>1.357262</td>\n",
       "      <td>1.300595</td>\n",
       "      <td>2.0</td>\n",
       "      <td>1.347403</td>\n",
       "      <td>1.298343</td>\n",
       "      <td>2.0</td>\n",
       "      <td>1.212766</td>\n",
       "      <td>22.0</td>\n",
       "      <td>1.274631</td>\n",
       "      <td>1.258110</td>\n",
       "      <td>1.0</td>\n",
       "      <td>1.295238</td>\n",
       "      <td>1.0</td>\n",
       "      <td>1.314286</td>\n",
       "      <td>1.305527</td>\n",
       "    </tr>\n",
       "    <tr>\n",
       "      <th>2</th>\n",
       "      <td>1.116751</td>\n",
       "      <td>12.0</td>\n",
       "      <td>1.167808</td>\n",
       "      <td>1.440000</td>\n",
       "      <td>2096.0</td>\n",
       "      <td>1.357262</td>\n",
       "      <td>1.224138</td>\n",
       "      <td>2.0</td>\n",
       "      <td>1.263736</td>\n",
       "      <td>1.298343</td>\n",
       "      <td>3.0</td>\n",
       "      <td>1.212766</td>\n",
       "      <td>49.0</td>\n",
       "      <td>1.274631</td>\n",
       "      <td>1.258110</td>\n",
       "      <td>1.0</td>\n",
       "      <td>1.280000</td>\n",
       "      <td>2.0</td>\n",
       "      <td>1.314286</td>\n",
       "      <td>1.305527</td>\n",
       "    </tr>\n",
       "    <tr>\n",
       "      <th>3</th>\n",
       "      <td>1.494505</td>\n",
       "      <td>42.0</td>\n",
       "      <td>1.318182</td>\n",
       "      <td>1.320442</td>\n",
       "      <td>7882.0</td>\n",
       "      <td>1.357262</td>\n",
       "      <td>1.224138</td>\n",
       "      <td>2.0</td>\n",
       "      <td>1.263736</td>\n",
       "      <td>1.192308</td>\n",
       "      <td>4.0</td>\n",
       "      <td>1.303030</td>\n",
       "      <td>45.0</td>\n",
       "      <td>1.274631</td>\n",
       "      <td>1.401869</td>\n",
       "      <td>1.0</td>\n",
       "      <td>1.295238</td>\n",
       "      <td>2.0</td>\n",
       "      <td>1.314286</td>\n",
       "      <td>1.305527</td>\n",
       "    </tr>\n",
       "    <tr>\n",
       "      <th>4</th>\n",
       "      <td>1.494505</td>\n",
       "      <td>24.0</td>\n",
       "      <td>1.318182</td>\n",
       "      <td>1.380342</td>\n",
       "      <td>4870.0</td>\n",
       "      <td>1.357262</td>\n",
       "      <td>1.300595</td>\n",
       "      <td>3.0</td>\n",
       "      <td>1.263736</td>\n",
       "      <td>1.298343</td>\n",
       "      <td>4.0</td>\n",
       "      <td>1.431373</td>\n",
       "      <td>53.0</td>\n",
       "      <td>1.274631</td>\n",
       "      <td>1.401869</td>\n",
       "      <td>2.0</td>\n",
       "      <td>1.295238</td>\n",
       "      <td>2.0</td>\n",
       "      <td>1.314286</td>\n",
       "      <td>1.305527</td>\n",
       "    </tr>\n",
       "    <tr>\n",
       "      <th>...</th>\n",
       "      <td>...</td>\n",
       "      <td>...</td>\n",
       "      <td>...</td>\n",
       "      <td>...</td>\n",
       "      <td>...</td>\n",
       "      <td>...</td>\n",
       "      <td>...</td>\n",
       "      <td>...</td>\n",
       "      <td>...</td>\n",
       "      <td>...</td>\n",
       "      <td>...</td>\n",
       "      <td>...</td>\n",
       "      <td>...</td>\n",
       "      <td>...</td>\n",
       "      <td>...</td>\n",
       "      <td>...</td>\n",
       "      <td>...</td>\n",
       "      <td>...</td>\n",
       "      <td>...</td>\n",
       "      <td>...</td>\n",
       "    </tr>\n",
       "    <tr>\n",
       "      <th>995</th>\n",
       "      <td>1.116751</td>\n",
       "      <td>12.0</td>\n",
       "      <td>1.318182</td>\n",
       "      <td>1.320442</td>\n",
       "      <td>1736.0</td>\n",
       "      <td>1.357262</td>\n",
       "      <td>1.224138</td>\n",
       "      <td>3.0</td>\n",
       "      <td>1.347403</td>\n",
       "      <td>1.298343</td>\n",
       "      <td>4.0</td>\n",
       "      <td>1.212766</td>\n",
       "      <td>31.0</td>\n",
       "      <td>1.274631</td>\n",
       "      <td>1.258110</td>\n",
       "      <td>1.0</td>\n",
       "      <td>1.280000</td>\n",
       "      <td>1.0</td>\n",
       "      <td>1.314286</td>\n",
       "      <td>1.305527</td>\n",
       "    </tr>\n",
       "    <tr>\n",
       "      <th>996</th>\n",
       "      <td>1.494505</td>\n",
       "      <td>30.0</td>\n",
       "      <td>1.318182</td>\n",
       "      <td>1.165049</td>\n",
       "      <td>3857.0</td>\n",
       "      <td>1.357262</td>\n",
       "      <td>1.300595</td>\n",
       "      <td>4.0</td>\n",
       "      <td>1.408163</td>\n",
       "      <td>1.298343</td>\n",
       "      <td>4.0</td>\n",
       "      <td>1.303030</td>\n",
       "      <td>40.0</td>\n",
       "      <td>1.274631</td>\n",
       "      <td>1.258110</td>\n",
       "      <td>1.0</td>\n",
       "      <td>1.328671</td>\n",
       "      <td>1.0</td>\n",
       "      <td>1.272500</td>\n",
       "      <td>1.305527</td>\n",
       "    </tr>\n",
       "    <tr>\n",
       "      <th>997</th>\n",
       "      <td>1.116751</td>\n",
       "      <td>12.0</td>\n",
       "      <td>1.318182</td>\n",
       "      <td>1.221429</td>\n",
       "      <td>804.0</td>\n",
       "      <td>1.357262</td>\n",
       "      <td>1.250000</td>\n",
       "      <td>4.0</td>\n",
       "      <td>1.263736</td>\n",
       "      <td>1.298343</td>\n",
       "      <td>4.0</td>\n",
       "      <td>1.303951</td>\n",
       "      <td>38.0</td>\n",
       "      <td>1.274631</td>\n",
       "      <td>1.258110</td>\n",
       "      <td>1.0</td>\n",
       "      <td>1.295238</td>\n",
       "      <td>1.0</td>\n",
       "      <td>1.314286</td>\n",
       "      <td>1.305527</td>\n",
       "    </tr>\n",
       "    <tr>\n",
       "      <th>998</th>\n",
       "      <td>1.494505</td>\n",
       "      <td>45.0</td>\n",
       "      <td>1.318182</td>\n",
       "      <td>1.221429</td>\n",
       "      <td>1845.0</td>\n",
       "      <td>1.357262</td>\n",
       "      <td>1.300595</td>\n",
       "      <td>4.0</td>\n",
       "      <td>1.263736</td>\n",
       "      <td>1.298343</td>\n",
       "      <td>4.0</td>\n",
       "      <td>1.431373</td>\n",
       "      <td>23.0</td>\n",
       "      <td>1.274631</td>\n",
       "      <td>1.401869</td>\n",
       "      <td>1.0</td>\n",
       "      <td>1.295238</td>\n",
       "      <td>1.0</td>\n",
       "      <td>1.272500</td>\n",
       "      <td>1.305527</td>\n",
       "    </tr>\n",
       "    <tr>\n",
       "      <th>999</th>\n",
       "      <td>1.381132</td>\n",
       "      <td>45.0</td>\n",
       "      <td>1.167808</td>\n",
       "      <td>1.165049</td>\n",
       "      <td>4576.0</td>\n",
       "      <td>1.323529</td>\n",
       "      <td>1.377049</td>\n",
       "      <td>3.0</td>\n",
       "      <td>1.263736</td>\n",
       "      <td>1.298343</td>\n",
       "      <td>4.0</td>\n",
       "      <td>1.303951</td>\n",
       "      <td>27.0</td>\n",
       "      <td>1.274631</td>\n",
       "      <td>1.258110</td>\n",
       "      <td>1.0</td>\n",
       "      <td>1.295238</td>\n",
       "      <td>1.0</td>\n",
       "      <td>1.314286</td>\n",
       "      <td>1.305527</td>\n",
       "    </tr>\n",
       "  </tbody>\n",
       "</table>\n",
       "<p>995 rows × 20 columns</p>\n",
       "</div>"
      ],
      "text/plain": [
       "     Status of existing account  Duration in month  Credit History   Purpose  \\\n",
       "0                      1.494505                6.0        1.167808  1.221429   \n",
       "1                      1.381132               48.0        1.318182  1.221429   \n",
       "2                      1.116751               12.0        1.167808  1.440000   \n",
       "3                      1.494505               42.0        1.318182  1.320442   \n",
       "4                      1.494505               24.0        1.318182  1.380342   \n",
       "..                          ...                ...             ...       ...   \n",
       "995                    1.116751               12.0        1.318182  1.320442   \n",
       "996                    1.494505               30.0        1.318182  1.165049   \n",
       "997                    1.116751               12.0        1.318182  1.221429   \n",
       "998                    1.494505               45.0        1.318182  1.221429   \n",
       "999                    1.381132               45.0        1.167808  1.165049   \n",
       "\n",
       "     Credit amount  Savings account/bonds  Present employment since  \\\n",
       "0           1169.0               1.174863                  1.250000   \n",
       "1           5951.0               1.357262                  1.300595   \n",
       "2           2096.0               1.357262                  1.224138   \n",
       "3           7882.0               1.357262                  1.224138   \n",
       "4           4870.0               1.357262                  1.300595   \n",
       "..             ...                    ...                       ...   \n",
       "995         1736.0               1.357262                  1.224138   \n",
       "996         3857.0               1.357262                  1.300595   \n",
       "997          804.0               1.357262                  1.250000   \n",
       "998         1845.0               1.357262                  1.300595   \n",
       "999         4576.0               1.323529                  1.377049   \n",
       "\n",
       "     Installment rate in percentage of disposable income  \\\n",
       "0                                                  4.0     \n",
       "1                                                  2.0     \n",
       "2                                                  2.0     \n",
       "3                                                  2.0     \n",
       "4                                                  3.0     \n",
       "..                                                 ...     \n",
       "995                                                3.0     \n",
       "996                                                4.0     \n",
       "997                                                4.0     \n",
       "998                                                4.0     \n",
       "999                                                3.0     \n",
       "\n",
       "     Personal status and sex  Other debtors / guarantors  \\\n",
       "0                   1.263736                    1.298343   \n",
       "1                   1.347403                    1.298343   \n",
       "2                   1.263736                    1.298343   \n",
       "3                   1.263736                    1.192308   \n",
       "4                   1.263736                    1.298343   \n",
       "..                       ...                         ...   \n",
       "995                 1.347403                    1.298343   \n",
       "996                 1.408163                    1.298343   \n",
       "997                 1.263736                    1.298343   \n",
       "998                 1.263736                    1.298343   \n",
       "999                 1.263736                    1.298343   \n",
       "\n",
       "     Present residence since  Property   Age  Other installment plans  \\\n",
       "0                        4.0  1.212766  67.0                 1.274631   \n",
       "1                        2.0  1.212766  22.0                 1.274631   \n",
       "2                        3.0  1.212766  49.0                 1.274631   \n",
       "3                        4.0  1.303030  45.0                 1.274631   \n",
       "4                        4.0  1.431373  53.0                 1.274631   \n",
       "..                       ...       ...   ...                      ...   \n",
       "995                      4.0  1.212766  31.0                 1.274631   \n",
       "996                      4.0  1.303030  40.0                 1.274631   \n",
       "997                      4.0  1.303951  38.0                 1.274631   \n",
       "998                      4.0  1.431373  23.0                 1.274631   \n",
       "999                      4.0  1.303951  27.0                 1.274631   \n",
       "\n",
       "      Housing  Number of existing credits at this bank       Job  \\\n",
       "0    1.258110                                      2.0  1.295238   \n",
       "1    1.258110                                      1.0  1.295238   \n",
       "2    1.258110                                      1.0  1.280000   \n",
       "3    1.401869                                      1.0  1.295238   \n",
       "4    1.401869                                      2.0  1.295238   \n",
       "..        ...                                      ...       ...   \n",
       "995  1.258110                                      1.0  1.280000   \n",
       "996  1.258110                                      1.0  1.328671   \n",
       "997  1.258110                                      1.0  1.295238   \n",
       "998  1.401869                                      1.0  1.295238   \n",
       "999  1.258110                                      1.0  1.295238   \n",
       "\n",
       "     Number of people being liable to provide maintenance for  Telephone  \\\n",
       "0                                                  1.0          1.272500   \n",
       "1                                                  1.0          1.314286   \n",
       "2                                                  2.0          1.314286   \n",
       "3                                                  2.0          1.314286   \n",
       "4                                                  2.0          1.314286   \n",
       "..                                                 ...               ...   \n",
       "995                                                1.0          1.314286   \n",
       "996                                                1.0          1.272500   \n",
       "997                                                1.0          1.314286   \n",
       "998                                                1.0          1.272500   \n",
       "999                                                1.0          1.314286   \n",
       "\n",
       "     foreign worker  \n",
       "0          1.305527  \n",
       "1          1.305527  \n",
       "2          1.305527  \n",
       "3          1.305527  \n",
       "4          1.305527  \n",
       "..              ...  \n",
       "995        1.305527  \n",
       "996        1.305527  \n",
       "997        1.305527  \n",
       "998        1.305527  \n",
       "999        1.305527  \n",
       "\n",
       "[995 rows x 20 columns]"
      ]
     },
     "execution_count": 53,
     "metadata": {},
     "output_type": "execute_result"
    }
   ],
   "source": [
    "#Conferindo a variavel x\n",
    "x"
   ]
  },
  {
   "cell_type": "code",
   "execution_count": 54,
   "metadata": {},
   "outputs": [
    {
     "data": {
      "text/plain": [
       "0      1\n",
       "1      2\n",
       "2      1\n",
       "3      1\n",
       "4      2\n",
       "      ..\n",
       "995    1\n",
       "996    1\n",
       "997    1\n",
       "998    2\n",
       "999    1\n",
       "Name: Credit_Class, Length: 995, dtype: int64"
      ]
     },
     "execution_count": 54,
     "metadata": {},
     "output_type": "execute_result"
    }
   ],
   "source": [
    "#Conferindo a variavel y\n",
    "y"
   ]
  },
  {
   "cell_type": "code",
   "execution_count": 56,
   "metadata": {},
   "outputs": [],
   "source": [
    "#Definindo a função para avaliar a performance dos modelos\n",
    "models_results = []\n",
    "\n",
    "def classify(model,x,y,name):\n",
    "    k = KFold(n_splits= 10, random_state=42, shuffle = True)\n",
    "    cross_val = np.mean(cross_val_score(model,x, y, cv = k, scoring= 'roc_auc'))\n",
    "    models_results.append([name, cross_val])\n"
   ]
  },
  {
   "cell_type": "markdown",
   "metadata": {},
   "source": [
    "A métrica escolhida para avaliar a performance dos modelos de Machine Learning foi a ROC AUC devido a existência do desbalaceamento de classes na variavel alvo, sendo assim não é possível usar a métrica acurácia."
   ]
  },
  {
   "cell_type": "markdown",
   "metadata": {},
   "source": [
    "## 8. Machine Learning"
   ]
  },
  {
   "cell_type": "markdown",
   "metadata": {},
   "source": [
    "Nesta seção será definido os algoritmos de Machine Learning e será testado a performances deles na previsão da classificação do cliente. A partir da métrica definido na acima, o modelo com melhor performance será escolhido."
   ]
  },
  {
   "cell_type": "code",
   "execution_count": 57,
   "metadata": {},
   "outputs": [
    {
     "name": "stdout",
     "output_type": "stream",
     "text": [
      "[19:38:09] WARNING: C:/Users/Administrator/workspace/xgboost-win64_release_1.3.0/src/learner.cc:1061: Starting in XGBoost 1.3.0, the default evaluation metric used with the objective 'binary:logistic' was changed from 'error' to 'logloss'. Explicitly set eval_metric if you'd like to restore the old behavior.\n",
      "[19:38:09] WARNING: C:/Users/Administrator/workspace/xgboost-win64_release_1.3.0/src/learner.cc:1061: Starting in XGBoost 1.3.0, the default evaluation metric used with the objective 'binary:logistic' was changed from 'error' to 'logloss'. Explicitly set eval_metric if you'd like to restore the old behavior.\n",
      "[19:38:09] WARNING: C:/Users/Administrator/workspace/xgboost-win64_release_1.3.0/src/learner.cc:1061: Starting in XGBoost 1.3.0, the default evaluation metric used with the objective 'binary:logistic' was changed from 'error' to 'logloss'. Explicitly set eval_metric if you'd like to restore the old behavior.\n",
      "[19:38:09] WARNING: C:/Users/Administrator/workspace/xgboost-win64_release_1.3.0/src/learner.cc:1061: Starting in XGBoost 1.3.0, the default evaluation metric used with the objective 'binary:logistic' was changed from 'error' to 'logloss'. Explicitly set eval_metric if you'd like to restore the old behavior.\n",
      "[19:38:09] WARNING: C:/Users/Administrator/workspace/xgboost-win64_release_1.3.0/src/learner.cc:1061: Starting in XGBoost 1.3.0, the default evaluation metric used with the objective 'binary:logistic' was changed from 'error' to 'logloss'. Explicitly set eval_metric if you'd like to restore the old behavior.\n",
      "[19:38:10] WARNING: C:/Users/Administrator/workspace/xgboost-win64_release_1.3.0/src/learner.cc:1061: Starting in XGBoost 1.3.0, the default evaluation metric used with the objective 'binary:logistic' was changed from 'error' to 'logloss'. Explicitly set eval_metric if you'd like to restore the old behavior.\n",
      "[19:38:10] WARNING: C:/Users/Administrator/workspace/xgboost-win64_release_1.3.0/src/learner.cc:1061: Starting in XGBoost 1.3.0, the default evaluation metric used with the objective 'binary:logistic' was changed from 'error' to 'logloss'. Explicitly set eval_metric if you'd like to restore the old behavior.\n",
      "[19:38:10] WARNING: C:/Users/Administrator/workspace/xgboost-win64_release_1.3.0/src/learner.cc:1061: Starting in XGBoost 1.3.0, the default evaluation metric used with the objective 'binary:logistic' was changed from 'error' to 'logloss'. Explicitly set eval_metric if you'd like to restore the old behavior.\n",
      "[19:38:10] WARNING: C:/Users/Administrator/workspace/xgboost-win64_release_1.3.0/src/learner.cc:1061: Starting in XGBoost 1.3.0, the default evaluation metric used with the objective 'binary:logistic' was changed from 'error' to 'logloss'. Explicitly set eval_metric if you'd like to restore the old behavior.\n",
      "[19:38:10] WARNING: C:/Users/Administrator/workspace/xgboost-win64_release_1.3.0/src/learner.cc:1061: Starting in XGBoost 1.3.0, the default evaluation metric used with the objective 'binary:logistic' was changed from 'error' to 'logloss'. Explicitly set eval_metric if you'd like to restore the old behavior.\n"
     ]
    }
   ],
   "source": [
    "#Test dos modelos dee ML\n",
    "\n",
    "model = LogisticRegression()\n",
    "classify(model,x,y,'Logistic Regression')\n",
    "\n",
    "model = DecisionTreeClassifier()\n",
    "classify(model,x,y,\"Decision Tree\")\n",
    "\n",
    "model = RandomForestClassifier()\n",
    "classify(model,x,y,\"Random Forest\")\n",
    "\n",
    "model = GradientBoostingClassifier()\n",
    "classify(model,x,y,'Gradient Boost')\n",
    "\n",
    "model = AdaBoostClassifier()\n",
    "classify(model,x,y,'Ada Boost')\n",
    "\n",
    "model = XGBClassifier()\n",
    "classify(model,x,y,'XGBoost')\n",
    "\n",
    "model = SVC()\n",
    "classify(model,x,y,'SVM')\n",
    "\n",
    "model = KNeighborsClassifier()\n",
    "classify(model,x,y,'KNN')\n",
    "\n",
    "model = GaussianNB()\n",
    "classify(model,x,y,'Naive Bayes')\n"
   ]
  },
  {
   "cell_type": "code",
   "execution_count": 58,
   "metadata": {},
   "outputs": [],
   "source": [
    "#Getting the results of the models tested\n",
    "models_results = pd.DataFrame(models_results)\n",
    "models_results.columns = ['Models','ROC AUC']"
   ]
  },
  {
   "cell_type": "code",
   "execution_count": 59,
   "metadata": {},
   "outputs": [
    {
     "data": {
      "text/html": [
       "<div>\n",
       "<style scoped>\n",
       "    .dataframe tbody tr th:only-of-type {\n",
       "        vertical-align: middle;\n",
       "    }\n",
       "\n",
       "    .dataframe tbody tr th {\n",
       "        vertical-align: top;\n",
       "    }\n",
       "\n",
       "    .dataframe thead th {\n",
       "        text-align: right;\n",
       "    }\n",
       "</style>\n",
       "<table border=\"1\" class=\"dataframe\">\n",
       "  <thead>\n",
       "    <tr style=\"text-align: right;\">\n",
       "      <th></th>\n",
       "      <th>Models</th>\n",
       "      <th>ROC AUC</th>\n",
       "    </tr>\n",
       "  </thead>\n",
       "  <tbody>\n",
       "    <tr>\n",
       "      <th>2</th>\n",
       "      <td>Random Forest</td>\n",
       "      <td>0.792610</td>\n",
       "    </tr>\n",
       "    <tr>\n",
       "      <th>3</th>\n",
       "      <td>Gradient Boost</td>\n",
       "      <td>0.790812</td>\n",
       "    </tr>\n",
       "    <tr>\n",
       "      <th>8</th>\n",
       "      <td>Naive Bayes</td>\n",
       "      <td>0.780033</td>\n",
       "    </tr>\n",
       "    <tr>\n",
       "      <th>5</th>\n",
       "      <td>XGBoost</td>\n",
       "      <td>0.769025</td>\n",
       "    </tr>\n",
       "    <tr>\n",
       "      <th>4</th>\n",
       "      <td>Ada Boost</td>\n",
       "      <td>0.759764</td>\n",
       "    </tr>\n",
       "    <tr>\n",
       "      <th>0</th>\n",
       "      <td>Logistic Regression</td>\n",
       "      <td>0.661542</td>\n",
       "    </tr>\n",
       "    <tr>\n",
       "      <th>1</th>\n",
       "      <td>Decision Tree</td>\n",
       "      <td>0.628506</td>\n",
       "    </tr>\n",
       "    <tr>\n",
       "      <th>7</th>\n",
       "      <td>KNN</td>\n",
       "      <td>0.535952</td>\n",
       "    </tr>\n",
       "    <tr>\n",
       "      <th>6</th>\n",
       "      <td>SVM</td>\n",
       "      <td>0.523649</td>\n",
       "    </tr>\n",
       "  </tbody>\n",
       "</table>\n",
       "</div>"
      ],
      "text/plain": [
       "                Models   ROC AUC\n",
       "2        Random Forest  0.792610\n",
       "3       Gradient Boost  0.790812\n",
       "8          Naive Bayes  0.780033\n",
       "5              XGBoost  0.769025\n",
       "4            Ada Boost  0.759764\n",
       "0  Logistic Regression  0.661542\n",
       "1        Decision Tree  0.628506\n",
       "7                  KNN  0.535952\n",
       "6                  SVM  0.523649"
      ]
     },
     "execution_count": 59,
     "metadata": {},
     "output_type": "execute_result"
    }
   ],
   "source": [
    "models_results.sort_values(by='ROC AUC', ascending = False)"
   ]
  },
  {
   "cell_type": "markdown",
   "metadata": {},
   "source": [
    "Pelo resultado mostrado acima, podemos concluir que o modelo que possui a melhor performance para a previsão do problema deste projeto com a Random Forest com métrica ROC AUC no valor de 0.793."
   ]
  },
  {
   "cell_type": "markdown",
   "metadata": {},
   "source": [
    "### 8.1 Tunning"
   ]
  },
  {
   "cell_type": "markdown",
   "metadata": {},
   "source": [
    "Para melhorar a performance do algoritmo de Grandient Boosting, será feito um estudo de quais parametros fornecem a melhor performance na classificação do cliente. Para isso será utilizada a função GridSearch que esta contido dentro da biblioteca do ScikitLearn."
   ]
  },
  {
   "cell_type": "code",
   "execution_count": 60,
   "metadata": {},
   "outputs": [],
   "source": [
    "#Definindo o modelo com maior métrica\n",
    "model = RandomForestClassifier()"
   ]
  },
  {
   "cell_type": "code",
   "execution_count": 63,
   "metadata": {},
   "outputs": [],
   "source": [
    "n_estimators = [100, 300, 500, 750]\n",
    "max_depth = [5, 8, 15, 25]\n",
    "min_samples_split = [2, 5, 10]\n",
    "min_samples_leaf = [1, 2, 5, 10] \n",
    "\n",
    "hyperF = dict(n_estimators = n_estimators, max_depth = max_depth, min_samples_split = min_samples_split, min_samples_leaf = min_samples_leaf)\n",
    "\n",
    "k = KFold(n_splits= 10, random_state=42, shuffle = True)\n",
    "gridF = GridSearchCV(model, hyperF, cv = k, scoring = 'roc_auc')"
   ]
  },
  {
   "cell_type": "code",
   "execution_count": 64,
   "metadata": {},
   "outputs": [],
   "source": [
    "bestF = gridF.fit(x, y)"
   ]
  },
  {
   "cell_type": "code",
   "execution_count": 65,
   "metadata": {},
   "outputs": [
    {
     "data": {
      "text/plain": [
       "{'max_depth': 15,\n",
       " 'min_samples_leaf': 2,\n",
       " 'min_samples_split': 2,\n",
       " 'n_estimators': 500}"
      ]
     },
     "execution_count": 65,
     "metadata": {},
     "output_type": "execute_result"
    }
   ],
   "source": [
    "#Melhores parametros\n",
    "bestF.best_params_"
   ]
  },
  {
   "cell_type": "code",
   "execution_count": 73,
   "metadata": {},
   "outputs": [
    {
     "data": {
      "text/plain": [
       "0.8024648152872558"
      ]
     },
     "execution_count": 73,
     "metadata": {},
     "output_type": "execute_result"
    }
   ],
   "source": [
    "#Melhor Score\n",
    "bestF.best_score_"
   ]
  },
  {
   "cell_type": "code",
   "execution_count": 75,
   "metadata": {},
   "outputs": [],
   "source": [
    "#Biblioteca para salvar o modelo tunnado\n",
    "import pickle"
   ]
  },
  {
   "cell_type": "code",
   "execution_count": 77,
   "metadata": {},
   "outputs": [],
   "source": [
    "#Salvando o modelo\n",
    "pickle.dump(bestF, open('model_tunned.pkl', 'wb'))"
   ]
  },
  {
   "cell_type": "markdown",
   "metadata": {},
   "source": [
    "### 8.2 Previsão de novos valores"
   ]
  },
  {
   "cell_type": "markdown",
   "metadata": {},
   "source": [
    "Abaixo será mostrado o modelo realizando a classificação de um novo cliente dado a lista de variaveis."
   ]
  },
  {
   "cell_type": "code",
   "execution_count": 94,
   "metadata": {},
   "outputs": [],
   "source": [
    "dados_teste = pd.DataFrame([[\n",
    "    'A12',\n",
    "    15,\n",
    "    'A34',\n",
    "    'A41',\n",
    "    3000,\n",
    "    'A62',\n",
    "    'A73',\n",
    "    0.2,\n",
    "    'A93',\n",
    "    'A103',\n",
    "    1,\n",
    "    'A121',\n",
    "    25,\n",
    "    'A143',\n",
    "    'A151',\n",
    "    2,\n",
    "    'A173',\n",
    "    2,\n",
    "    'A192',\n",
    "    'A202'\n",
    "]], columns = x.columns )"
   ]
  },
  {
   "cell_type": "code",
   "execution_count": 95,
   "metadata": {},
   "outputs": [
    {
     "data": {
      "text/html": [
       "<div>\n",
       "<style scoped>\n",
       "    .dataframe tbody tr th:only-of-type {\n",
       "        vertical-align: middle;\n",
       "    }\n",
       "\n",
       "    .dataframe tbody tr th {\n",
       "        vertical-align: top;\n",
       "    }\n",
       "\n",
       "    .dataframe thead th {\n",
       "        text-align: right;\n",
       "    }\n",
       "</style>\n",
       "<table border=\"1\" class=\"dataframe\">\n",
       "  <thead>\n",
       "    <tr style=\"text-align: right;\">\n",
       "      <th></th>\n",
       "      <th>Status of existing account</th>\n",
       "      <th>Duration in month</th>\n",
       "      <th>Credit History</th>\n",
       "      <th>Purpose</th>\n",
       "      <th>Credit amount</th>\n",
       "      <th>Savings account/bonds</th>\n",
       "      <th>Present employment since</th>\n",
       "      <th>Installment rate in percentage of disposable income</th>\n",
       "      <th>Personal status and sex</th>\n",
       "      <th>Other debtors / guarantors</th>\n",
       "      <th>Present residence since</th>\n",
       "      <th>Property</th>\n",
       "      <th>Age</th>\n",
       "      <th>Other installment plans</th>\n",
       "      <th>Housing</th>\n",
       "      <th>Number of existing credits at this bank</th>\n",
       "      <th>Job</th>\n",
       "      <th>Number of people being liable to provide maintenance for</th>\n",
       "      <th>Telephone</th>\n",
       "      <th>foreign worker</th>\n",
       "    </tr>\n",
       "  </thead>\n",
       "  <tbody>\n",
       "    <tr>\n",
       "      <th>0</th>\n",
       "      <td>A12</td>\n",
       "      <td>15</td>\n",
       "      <td>A34</td>\n",
       "      <td>A41</td>\n",
       "      <td>3000</td>\n",
       "      <td>A62</td>\n",
       "      <td>A73</td>\n",
       "      <td>0.2</td>\n",
       "      <td>A93</td>\n",
       "      <td>A103</td>\n",
       "      <td>1</td>\n",
       "      <td>A121</td>\n",
       "      <td>25</td>\n",
       "      <td>A143</td>\n",
       "      <td>A151</td>\n",
       "      <td>2</td>\n",
       "      <td>A173</td>\n",
       "      <td>2</td>\n",
       "      <td>A192</td>\n",
       "      <td>A202</td>\n",
       "    </tr>\n",
       "  </tbody>\n",
       "</table>\n",
       "</div>"
      ],
      "text/plain": [
       "  Status of existing account  Duration in month Credit History Purpose  \\\n",
       "0                        A12                 15            A34     A41   \n",
       "\n",
       "   Credit amount Savings account/bonds Present employment since  \\\n",
       "0           3000                   A62                      A73   \n",
       "\n",
       "   Installment rate in percentage of disposable income  \\\n",
       "0                                                0.2     \n",
       "\n",
       "  Personal status and sex Other debtors / guarantors  Present residence since  \\\n",
       "0                     A93                       A103                        1   \n",
       "\n",
       "  Property  Age Other installment plans Housing  \\\n",
       "0     A121   25                    A143    A151   \n",
       "\n",
       "   Number of existing credits at this bank   Job  \\\n",
       "0                                        2  A173   \n",
       "\n",
       "   Number of people being liable to provide maintenance for Telephone  \\\n",
       "0                                                  2             A192   \n",
       "\n",
       "  foreign worker  \n",
       "0           A202  "
      ]
     },
     "execution_count": 95,
     "metadata": {},
     "output_type": "execute_result"
    }
   ],
   "source": [
    "dados_teste"
   ]
  },
  {
   "cell_type": "code",
   "execution_count": 96,
   "metadata": {},
   "outputs": [],
   "source": [
    "dados_teste = cat_enc.transform(dados_teste)"
   ]
  },
  {
   "cell_type": "code",
   "execution_count": 97,
   "metadata": {},
   "outputs": [
    {
     "data": {
      "text/html": [
       "<div>\n",
       "<style scoped>\n",
       "    .dataframe tbody tr th:only-of-type {\n",
       "        vertical-align: middle;\n",
       "    }\n",
       "\n",
       "    .dataframe tbody tr th {\n",
       "        vertical-align: top;\n",
       "    }\n",
       "\n",
       "    .dataframe thead th {\n",
       "        text-align: right;\n",
       "    }\n",
       "</style>\n",
       "<table border=\"1\" class=\"dataframe\">\n",
       "  <thead>\n",
       "    <tr style=\"text-align: right;\">\n",
       "      <th></th>\n",
       "      <th>Status of existing account</th>\n",
       "      <th>Duration in month</th>\n",
       "      <th>Credit History</th>\n",
       "      <th>Purpose</th>\n",
       "      <th>Credit amount</th>\n",
       "      <th>Savings account/bonds</th>\n",
       "      <th>Present employment since</th>\n",
       "      <th>Installment rate in percentage of disposable income</th>\n",
       "      <th>Personal status and sex</th>\n",
       "      <th>Other debtors / guarantors</th>\n",
       "      <th>Present residence since</th>\n",
       "      <th>Property</th>\n",
       "      <th>Age</th>\n",
       "      <th>Other installment plans</th>\n",
       "      <th>Housing</th>\n",
       "      <th>Number of existing credits at this bank</th>\n",
       "      <th>Job</th>\n",
       "      <th>Number of people being liable to provide maintenance for</th>\n",
       "      <th>Telephone</th>\n",
       "      <th>foreign worker</th>\n",
       "    </tr>\n",
       "  </thead>\n",
       "  <tbody>\n",
       "    <tr>\n",
       "      <th>0</th>\n",
       "      <td>1.381132</td>\n",
       "      <td>15</td>\n",
       "      <td>1.167808</td>\n",
       "      <td>1.165049</td>\n",
       "      <td>3000</td>\n",
       "      <td>1.323529</td>\n",
       "      <td>1.300595</td>\n",
       "      <td>0.2</td>\n",
       "      <td>1.263736</td>\n",
       "      <td>1.192308</td>\n",
       "      <td>1</td>\n",
       "      <td>1.212766</td>\n",
       "      <td>25</td>\n",
       "      <td>1.274631</td>\n",
       "      <td>1.391061</td>\n",
       "      <td>2</td>\n",
       "      <td>1.295238</td>\n",
       "      <td>2</td>\n",
       "      <td>1.2725</td>\n",
       "      <td>1.083333</td>\n",
       "    </tr>\n",
       "  </tbody>\n",
       "</table>\n",
       "</div>"
      ],
      "text/plain": [
       "   Status of existing account  Duration in month  Credit History   Purpose  \\\n",
       "0                    1.381132                 15        1.167808  1.165049   \n",
       "\n",
       "   Credit amount  Savings account/bonds  Present employment since  \\\n",
       "0           3000               1.323529                  1.300595   \n",
       "\n",
       "   Installment rate in percentage of disposable income  \\\n",
       "0                                                0.2     \n",
       "\n",
       "   Personal status and sex  Other debtors / guarantors  \\\n",
       "0                 1.263736                    1.192308   \n",
       "\n",
       "   Present residence since  Property  Age  Other installment plans   Housing  \\\n",
       "0                        1  1.212766   25                 1.274631  1.391061   \n",
       "\n",
       "   Number of existing credits at this bank       Job  \\\n",
       "0                                        2  1.295238   \n",
       "\n",
       "   Number of people being liable to provide maintenance for  Telephone  \\\n",
       "0                                                  2            1.2725   \n",
       "\n",
       "   foreign worker  \n",
       "0        1.083333  "
      ]
     },
     "execution_count": 97,
     "metadata": {},
     "output_type": "execute_result"
    }
   ],
   "source": [
    "dados_teste"
   ]
  },
  {
   "cell_type": "code",
   "execution_count": 98,
   "metadata": {},
   "outputs": [
    {
     "data": {
      "text/plain": [
       "array([1], dtype=int64)"
      ]
     },
     "execution_count": 98,
     "metadata": {},
     "output_type": "execute_result"
    }
   ],
   "source": [
    "bestF.predict(dados_teste)"
   ]
  },
  {
   "cell_type": "markdown",
   "metadata": {},
   "source": [
    "Portanto de acordo com os dados fornecidos, a previsão do cliente é classe 1"
   ]
  },
  {
   "cell_type": "markdown",
   "metadata": {},
   "source": [
    "### 8.3 Feature Importance"
   ]
  },
  {
   "cell_type": "markdown",
   "metadata": {},
   "source": [
    "Nesta seção será avaliado quais variaveis possuem o maior impacto na classificação do cliente"
   ]
  },
  {
   "cell_type": "code",
   "execution_count": 44,
   "metadata": {},
   "outputs": [],
   "source": [
    "model = RandomForestClassifier(max_depth = 15, min_samples_leaf = 2, min_samples_split= 2, n_estimators= 500)"
   ]
  },
  {
   "cell_type": "code",
   "execution_count": 45,
   "metadata": {},
   "outputs": [
    {
     "data": {
      "text/plain": [
       "RandomForestClassifier(max_depth=15, min_samples_leaf=2, n_estimators=500)"
      ]
     },
     "execution_count": 45,
     "metadata": {},
     "output_type": "execute_result"
    }
   ],
   "source": [
    "model.fit(x,y)"
   ]
  },
  {
   "cell_type": "code",
   "execution_count": 46,
   "metadata": {},
   "outputs": [],
   "source": [
    "importance = pd.DataFrame({'Variaveis': x.columns, 'Importancia': model.feature_importances_})"
   ]
  },
  {
   "cell_type": "code",
   "execution_count": 49,
   "metadata": {},
   "outputs": [
    {
     "data": {
      "text/html": [
       "<div>\n",
       "<style scoped>\n",
       "    .dataframe tbody tr th:only-of-type {\n",
       "        vertical-align: middle;\n",
       "    }\n",
       "\n",
       "    .dataframe tbody tr th {\n",
       "        vertical-align: top;\n",
       "    }\n",
       "\n",
       "    .dataframe thead th {\n",
       "        text-align: right;\n",
       "    }\n",
       "</style>\n",
       "<table border=\"1\" class=\"dataframe\">\n",
       "  <thead>\n",
       "    <tr style=\"text-align: right;\">\n",
       "      <th></th>\n",
       "      <th>Variaveis</th>\n",
       "      <th>Importancia</th>\n",
       "    </tr>\n",
       "  </thead>\n",
       "  <tbody>\n",
       "    <tr>\n",
       "      <th>0</th>\n",
       "      <td>Status of existing account</td>\n",
       "      <td>0.136801</td>\n",
       "    </tr>\n",
       "    <tr>\n",
       "      <th>4</th>\n",
       "      <td>Credit amount</td>\n",
       "      <td>0.129888</td>\n",
       "    </tr>\n",
       "    <tr>\n",
       "      <th>1</th>\n",
       "      <td>Duration in month</td>\n",
       "      <td>0.103174</td>\n",
       "    </tr>\n",
       "    <tr>\n",
       "      <th>12</th>\n",
       "      <td>Age</td>\n",
       "      <td>0.100909</td>\n",
       "    </tr>\n",
       "    <tr>\n",
       "      <th>3</th>\n",
       "      <td>Purpose</td>\n",
       "      <td>0.069338</td>\n",
       "    </tr>\n",
       "    <tr>\n",
       "      <th>2</th>\n",
       "      <td>Credit History</td>\n",
       "      <td>0.056792</td>\n",
       "    </tr>\n",
       "    <tr>\n",
       "      <th>5</th>\n",
       "      <td>Savings account/bonds</td>\n",
       "      <td>0.050641</td>\n",
       "    </tr>\n",
       "    <tr>\n",
       "      <th>6</th>\n",
       "      <td>Present employment since</td>\n",
       "      <td>0.049262</td>\n",
       "    </tr>\n",
       "    <tr>\n",
       "      <th>11</th>\n",
       "      <td>Property</td>\n",
       "      <td>0.045065</td>\n",
       "    </tr>\n",
       "    <tr>\n",
       "      <th>7</th>\n",
       "      <td>Installment rate in percentage of disposable i...</td>\n",
       "      <td>0.041286</td>\n",
       "    </tr>\n",
       "  </tbody>\n",
       "</table>\n",
       "</div>"
      ],
      "text/plain": [
       "                                            Variaveis  Importancia\n",
       "0                          Status of existing account     0.136801\n",
       "4                                       Credit amount     0.129888\n",
       "1                                   Duration in month     0.103174\n",
       "12                                                Age     0.100909\n",
       "3                                             Purpose     0.069338\n",
       "2                                      Credit History     0.056792\n",
       "5                               Savings account/bonds     0.050641\n",
       "6                            Present employment since     0.049262\n",
       "11                                           Property     0.045065\n",
       "7   Installment rate in percentage of disposable i...     0.041286"
      ]
     },
     "execution_count": 49,
     "metadata": {},
     "output_type": "execute_result"
    }
   ],
   "source": [
    "#10 Variaveis mais importantes\n",
    "importance.sort_values('Importancia', ascending = False).head(10)"
   ]
  },
  {
   "cell_type": "markdown",
   "metadata": {},
   "source": [
    "## 9 Conclusões"
   ]
  },
  {
   "cell_type": "markdown",
   "metadata": {},
   "source": [
    "A partir dos passos mostrados no decorrer deste projeto, foi possível entender a relação das variaveis presentes nos dados com a classificação de um cliente. Portanto foi possível levantar o perfil do cliente que esta presente em cada categoria.\n",
    "\n",
    "Assim, podemos levantar que um cliente classe 1 (Bom) apresenta as seguintes características mais relevantes:\n",
    "- Não tem conta corrente\n",
    "- Conta crítica\n",
    "- Proposito em carro novo e radio/televisão\n",
    "- Empregado a mais de 7 anos\n",
    "- Possui propriedade\n",
    "- Duração em mes na média de 19.2\n",
    "- Quantidade de crédito em torno de 2967.04\n",
    "\n",
    "E um cliente classe 2 (Ruim) as seguintes:\n",
    "- Conta corrente entre 0<= X <= 200 DM.\n",
    "- Proposito em mobilia e equipamentos.\n",
    "- Empregado a menos de 1 ano.\n",
    "- Não possui propriedade.\n",
    "- Duração em mes na média de 24.67.\n",
    "- Quantidade de crédito em torno de 3800\n",
    "\n",
    "E para atingir o objetivo principal deste projeto, foi feito um modelo preditivo a partir de algortimos de Machine Learning para realizar a classificação do cliente em bom ou ruim em poucos segundos, auxiliando assim na tarefa de aprovação ou recusa deste cliente. Portanto com o desenvolvimento deste projeto, a chance de realizar bons négocios com clientes foi aprimorada, tornando-se rápido e confiável a tomada de ação.\n",
    "\n",
    "Sugestão para melhorar o resultado:\n",
    "- Para melhorar a performance do modelo preditivo na classificação do cliente, um dos fatores mais determinante é a quantidade de dados. Quanto mais dados utilizados para treino e validação do modelo, melhor será o resultado. Portanto aumentar o número de dados irá auxiliar em predições mais precisas. "
   ]
  },
  {
   "cell_type": "markdown",
   "metadata": {},
   "source": [
    "## 10. Deploy"
   ]
  },
  {
   "cell_type": "markdown",
   "metadata": {},
   "source": [
    "Para que o modelo preditivo seja utilizado por demais pessoas, o deploy é extremamente necessário. A partir desta técnica, o usuário pode inserir os dados para realizar a classificação dos clientes a partir de uma interface mais amigável.\n",
    "\n",
    "O deploy deste projeto será realizado a partir do Heroku, uma nuvem gratuita onde estará hospedado o modelo, e também com o auxilio da biblioteca Streamlit para criar interface onde o usuário consegue inserir os dados de forma simples e fácil."
   ]
  },
  {
   "cell_type": "markdown",
   "metadata": {},
   "source": [
    "Para acessar o deploy deste modelo, acesse o link: https://libercapital-app.herokuapp.com/\n",
    "\n",
    "OBS: Por se tratar de uma nuvem gratuita, pode acontecer alguns problemas de lentidão para acessar o site."
   ]
  }
 ],
 "metadata": {
  "kernelspec": {
   "display_name": "Python 3",
   "language": "python",
   "name": "python3"
  },
  "language_info": {
   "codemirror_mode": {
    "name": "ipython",
    "version": 3
   },
   "file_extension": ".py",
   "mimetype": "text/x-python",
   "name": "python",
   "nbconvert_exporter": "python",
   "pygments_lexer": "ipython3",
   "version": "3.7.3"
  }
 },
 "nbformat": 4,
 "nbformat_minor": 4
}
